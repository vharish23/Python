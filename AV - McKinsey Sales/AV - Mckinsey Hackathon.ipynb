{
 "cells": [
  {
   "cell_type": "code",
   "execution_count": 1,
   "metadata": {},
   "outputs": [],
   "source": [
    "#Importing Libraries\n",
    "import pandas as pd\n",
    "import numpy as np\n",
    "import matplotlib.pyplot as plt\n",
    "import seaborn as sns\n",
    "import datetime\n",
    "from scipy.stats import mode\n",
    "from calendar import monthrange\n",
    "from sklearn.preprocessing import Imputer\n",
    "from sklearn.model_selection import train_test_split\n",
    "import xgboost as xgb\n",
    "from xgboost import XGBClassifier, plot_importance\n",
    "from sklearn.metrics import confusion_matrix, accuracy_score, recall_score\n",
    "%matplotlib inline"
   ]
  },
  {
   "cell_type": "code",
   "execution_count": 2,
   "metadata": {},
   "outputs": [],
   "source": [
    "#Reading input files\n",
    "df = pd.read_csv(\"../Documents/JK/McKinsey2/train.csv\")\n",
    "df_test = pd.read_csv(\"../Documents/JK/McKinsey2/test.csv\")"
   ]
  },
  {
   "cell_type": "code",
   "execution_count": 3,
   "metadata": {},
   "outputs": [
    {
     "data": {
      "text/html": [
       "<div>\n",
       "<table border=\"1\" class=\"dataframe\">\n",
       "  <thead>\n",
       "    <tr style=\"text-align: right;\">\n",
       "      <th></th>\n",
       "      <th>ID</th>\n",
       "      <th>Gender</th>\n",
       "      <th>DOB</th>\n",
       "      <th>Lead_Creation_Date</th>\n",
       "      <th>City_Code</th>\n",
       "      <th>City_Category</th>\n",
       "      <th>Employer_Code</th>\n",
       "      <th>Employer_Category1</th>\n",
       "      <th>Employer_Category2</th>\n",
       "      <th>Monthly_Income</th>\n",
       "      <th>...</th>\n",
       "      <th>Primary_Bank_Type</th>\n",
       "      <th>Contacted</th>\n",
       "      <th>Source</th>\n",
       "      <th>Source_Category</th>\n",
       "      <th>Existing_EMI</th>\n",
       "      <th>Loan_Amount</th>\n",
       "      <th>Loan_Period</th>\n",
       "      <th>Interest_Rate</th>\n",
       "      <th>EMI</th>\n",
       "      <th>Var1</th>\n",
       "    </tr>\n",
       "  </thead>\n",
       "  <tbody>\n",
       "    <tr>\n",
       "      <th>0</th>\n",
       "      <td>APPA70109647212</td>\n",
       "      <td>Male</td>\n",
       "      <td>03/06/88</td>\n",
       "      <td>05/07/16</td>\n",
       "      <td>C10028</td>\n",
       "      <td>C</td>\n",
       "      <td>COM0002222</td>\n",
       "      <td>A</td>\n",
       "      <td>4.0</td>\n",
       "      <td>2150.0</td>\n",
       "      <td>...</td>\n",
       "      <td>P</td>\n",
       "      <td>Y</td>\n",
       "      <td>S122</td>\n",
       "      <td>B</td>\n",
       "      <td>0.0</td>\n",
       "      <td>10000.0</td>\n",
       "      <td>3.0</td>\n",
       "      <td>20.0</td>\n",
       "      <td>372.0</td>\n",
       "      <td>4</td>\n",
       "    </tr>\n",
       "    <tr>\n",
       "      <th>1</th>\n",
       "      <td>APPB10687939341</td>\n",
       "      <td>Male</td>\n",
       "      <td>13/07/81</td>\n",
       "      <td>01/07/16</td>\n",
       "      <td>C10003</td>\n",
       "      <td>A</td>\n",
       "      <td>COM0001784</td>\n",
       "      <td>C</td>\n",
       "      <td>4.0</td>\n",
       "      <td>4200.0</td>\n",
       "      <td>...</td>\n",
       "      <td>P</td>\n",
       "      <td>Y</td>\n",
       "      <td>S133</td>\n",
       "      <td>C</td>\n",
       "      <td>0.0</td>\n",
       "      <td>69000.0</td>\n",
       "      <td>5.0</td>\n",
       "      <td>24.0</td>\n",
       "      <td>1985.0</td>\n",
       "      <td>7</td>\n",
       "    </tr>\n",
       "    <tr>\n",
       "      <th>2</th>\n",
       "      <td>APPC80449411414</td>\n",
       "      <td>Female</td>\n",
       "      <td>19/11/90</td>\n",
       "      <td>01/07/16</td>\n",
       "      <td>C10009</td>\n",
       "      <td>B</td>\n",
       "      <td>COM0045260</td>\n",
       "      <td>B</td>\n",
       "      <td>4.0</td>\n",
       "      <td>1000.0</td>\n",
       "      <td>...</td>\n",
       "      <td>P</td>\n",
       "      <td>N</td>\n",
       "      <td>S133</td>\n",
       "      <td>B</td>\n",
       "      <td>0.0</td>\n",
       "      <td>NaN</td>\n",
       "      <td>NaN</td>\n",
       "      <td>NaN</td>\n",
       "      <td>NaN</td>\n",
       "      <td>0</td>\n",
       "    </tr>\n",
       "    <tr>\n",
       "      <th>3</th>\n",
       "      <td>APPD30665094501</td>\n",
       "      <td>Female</td>\n",
       "      <td>15/10/92</td>\n",
       "      <td>01/07/16</td>\n",
       "      <td>C10005</td>\n",
       "      <td>A</td>\n",
       "      <td>COM0000085</td>\n",
       "      <td>A</td>\n",
       "      <td>3.0</td>\n",
       "      <td>1465.0</td>\n",
       "      <td>...</td>\n",
       "      <td>P</td>\n",
       "      <td>N</td>\n",
       "      <td>S133</td>\n",
       "      <td>C</td>\n",
       "      <td>0.0</td>\n",
       "      <td>NaN</td>\n",
       "      <td>NaN</td>\n",
       "      <td>NaN</td>\n",
       "      <td>NaN</td>\n",
       "      <td>0</td>\n",
       "    </tr>\n",
       "    <tr>\n",
       "      <th>4</th>\n",
       "      <td>APPE80379821637</td>\n",
       "      <td>Male</td>\n",
       "      <td>21/09/88</td>\n",
       "      <td>01/07/16</td>\n",
       "      <td>C10005</td>\n",
       "      <td>A</td>\n",
       "      <td>COM0006422</td>\n",
       "      <td>A</td>\n",
       "      <td>4.0</td>\n",
       "      <td>2340.0</td>\n",
       "      <td>...</td>\n",
       "      <td>P</td>\n",
       "      <td>Y</td>\n",
       "      <td>S143</td>\n",
       "      <td>B</td>\n",
       "      <td>500.0</td>\n",
       "      <td>10000.0</td>\n",
       "      <td>2.0</td>\n",
       "      <td>NaN</td>\n",
       "      <td>NaN</td>\n",
       "      <td>0</td>\n",
       "    </tr>\n",
       "  </tbody>\n",
       "</table>\n",
       "<p>5 rows × 21 columns</p>\n",
       "</div>"
      ],
      "text/plain": [
       "                ID  Gender       DOB Lead_Creation_Date City_Code  \\\n",
       "0  APPA70109647212    Male  03/06/88           05/07/16    C10028   \n",
       "1  APPB10687939341    Male  13/07/81           01/07/16    C10003   \n",
       "2  APPC80449411414  Female  19/11/90           01/07/16    C10009   \n",
       "3  APPD30665094501  Female  15/10/92           01/07/16    C10005   \n",
       "4  APPE80379821637    Male  21/09/88           01/07/16    C10005   \n",
       "\n",
       "  City_Category Employer_Code Employer_Category1  Employer_Category2  \\\n",
       "0             C    COM0002222                  A                 4.0   \n",
       "1             A    COM0001784                  C                 4.0   \n",
       "2             B    COM0045260                  B                 4.0   \n",
       "3             A    COM0000085                  A                 3.0   \n",
       "4             A    COM0006422                  A                 4.0   \n",
       "\n",
       "   Monthly_Income  ...  Primary_Bank_Type Contacted Source Source_Category  \\\n",
       "0          2150.0  ...                  P         Y   S122               B   \n",
       "1          4200.0  ...                  P         Y   S133               C   \n",
       "2          1000.0  ...                  P         N   S133               B   \n",
       "3          1465.0  ...                  P         N   S133               C   \n",
       "4          2340.0  ...                  P         Y   S143               B   \n",
       "\n",
       "  Existing_EMI  Loan_Amount  Loan_Period  Interest_Rate     EMI  Var1  \n",
       "0          0.0      10000.0          3.0           20.0   372.0     4  \n",
       "1          0.0      69000.0          5.0           24.0  1985.0     7  \n",
       "2          0.0          NaN          NaN            NaN     NaN     0  \n",
       "3          0.0          NaN          NaN            NaN     NaN     0  \n",
       "4        500.0      10000.0          2.0            NaN     NaN     0  \n",
       "\n",
       "[5 rows x 21 columns]"
      ]
     },
     "execution_count": 3,
     "metadata": {},
     "output_type": "execute_result"
    }
   ],
   "source": [
    "df_test.head(5)"
   ]
  },
  {
   "cell_type": "code",
   "execution_count": 4,
   "metadata": {},
   "outputs": [
    {
     "data": {
      "text/plain": [
       "ID                                      object\n",
       "Gender                                  object\n",
       "DOB                                     object\n",
       "Lead_Creation_Date                      object\n",
       "City_Code                               object\n",
       "City_Category                           object\n",
       "Employer_Code                           object\n",
       "Employer_Category1                      object\n",
       "Employer_Category2                     float64\n",
       "Monthly_Income                         float64\n",
       "Customer_Existing_Primary_Bank_Code     object\n",
       "Primary_Bank_Type                       object\n",
       "Contacted                               object\n",
       "Source                                  object\n",
       "Source_Category                         object\n",
       "Existing_EMI                           float64\n",
       "Loan_Amount                            float64\n",
       "Loan_Period                            float64\n",
       "Interest_Rate                          float64\n",
       "EMI                                    float64\n",
       "Var1                                     int64\n",
       "Approved                                 int64\n",
       "dtype: object"
      ]
     },
     "execution_count": 4,
     "metadata": {},
     "output_type": "execute_result"
    }
   ],
   "source": [
    "df.dtypes"
   ]
  },
  {
   "cell_type": "code",
   "execution_count": 5,
   "metadata": {},
   "outputs": [],
   "source": [
    "#Calculating Age in Years - step1\n",
    "df['DOB'] = pd.to_datetime(df['DOB'])\n",
    "df['Lead_Creation_Date'] = pd.to_datetime(df['Lead_Creation_Date'])\n",
    "#Calculating Age in Years - step1 (Test)\n",
    "df_test['DOB'] = pd.to_datetime(df_test['DOB'])\n",
    "df_test['Lead_Creation_Date'] = pd.to_datetime(df_test['Lead_Creation_Date'])"
   ]
  },
  {
   "cell_type": "code",
   "execution_count": 6,
   "metadata": {},
   "outputs": [],
   "source": [
    "#Calculating Age in Years - step2\n",
    "df['Age_in_D'] = df['Lead_Creation_Date'].subtract(df['DOB'])\n",
    "df['Age_in_D'] = df['Age_in_D'].dt.components.days.fillna(0).astype(int)\n",
    "#Calculating Age in Years - step2 (Test)\n",
    "df_test['Age_in_D'] = df_test['Lead_Creation_Date'].subtract(df_test['DOB'])\n",
    "df_test['Age_in_D'] = df_test['Age_in_D'].dt.components.days.fillna(0).astype(int)"
   ]
  },
  {
   "cell_type": "code",
   "execution_count": 7,
   "metadata": {},
   "outputs": [],
   "source": [
    "#Calculating Age in Years - step3\n",
    "df['Age'] = (df['Age_in_D']/365).round(0).astype(int)\n",
    "df = df.drop(['Age_in_D'],axis=1)\n",
    "#Calculating Age in Years - step3 (Test)\n",
    "df_test['Age'] = (df_test['Age_in_D']/365).round(0).astype(int)\n",
    "df_test = df_test.drop(['Age_in_D'],axis=1)"
   ]
  },
  {
   "cell_type": "code",
   "execution_count": 8,
   "metadata": {},
   "outputs": [],
   "source": [
    "#Dropping DOB and Lead Creation date\n",
    "df = df.drop(['DOB','Lead_Creation_Date'],axis=1)\n",
    "df_test = df_test.drop(['DOB','Lead_Creation_Date'],axis=1)"
   ]
  },
  {
   "cell_type": "code",
   "execution_count": 9,
   "metadata": {},
   "outputs": [],
   "source": [
    "df['Employer_Category2'] = df['Employer_Category2'].apply(str)\n",
    "df_test['Employer_Category2'] = df_test['Employer_Category2'].apply(str)"
   ]
  },
  {
   "cell_type": "code",
   "execution_count": 10,
   "metadata": {},
   "outputs": [],
   "source": [
    "df['Var1'] = df['Var1'].apply(str)\n",
    "df_test['Var1'] = df_test['Var1'].apply(str)"
   ]
  },
  {
   "cell_type": "code",
   "execution_count": 11,
   "metadata": {},
   "outputs": [
    {
     "name": "stdout",
     "output_type": "stream",
     "text": [
      "(69713, 21) (30037, 20)\n"
     ]
    }
   ],
   "source": [
    "#Exploratory Data Analysis\n",
    "#Checking sample size\n",
    "print df.shape, df_test.shape"
   ]
  },
  {
   "cell_type": "code",
   "execution_count": 12,
   "metadata": {},
   "outputs": [],
   "source": [
    "#Print all rows and columns. Dont hide any\n",
    "pd.set_option('display.max_rows', None)\n",
    "pd.set_option('display.max_columns', None)"
   ]
  },
  {
   "cell_type": "code",
   "execution_count": 13,
   "metadata": {},
   "outputs": [],
   "source": [
    "#Back up for transformation - later on\n",
    "df_bkp = df\n",
    "df_test_bkp = df_test"
   ]
  },
  {
   "cell_type": "code",
   "execution_count": 14,
   "metadata": {},
   "outputs": [],
   "source": [
    "#Remove ID fields and separate Target\n",
    "df_Y = df['Approved']\n",
    "df = df.drop(['Approved','ID'], axis =1)"
   ]
  },
  {
   "cell_type": "code",
   "execution_count": 15,
   "metadata": {},
   "outputs": [
    {
     "name": "stdout",
     "output_type": "stream",
     "text": [
      "(69713, 7) (69713, 12)\n"
     ]
    }
   ],
   "source": [
    "#Filter columns into numerical & categorical\n",
    "df_num = df.select_dtypes(include=[np.number]) #Numbers which are categories must be verified\n",
    "df_cat = df.select_dtypes(exclude=[np.number])\n",
    "print df_num.shape, df_cat.shape"
   ]
  },
  {
   "cell_type": "code",
   "execution_count": 16,
   "metadata": {},
   "outputs": [],
   "source": [
    "#Function to check % of missing values\n",
    "def missing_values_table(df): \n",
    "    mis_val = df.isnull().sum()\n",
    "    mis_val_percent = 100 * df.isnull().sum()/len(df)\n",
    "    mis_val_table = pd.concat([mis_val, mis_val_percent], axis=1)\n",
    "    mis_val_table_ren_columns = mis_val_table.rename(columns = {0 : 'Missing Values', 1 : '% of Total Values'})\n",
    "    return mis_val_table_ren_columns"
   ]
  },
  {
   "cell_type": "code",
   "execution_count": 17,
   "metadata": {},
   "outputs": [],
   "source": [
    "#Function to eliminate variables with more than 99% missing values - need function 'missing_values_table'\n",
    "def non_missing_col(df):\n",
    "    df_col = missing_values_table(df) #Calc missing values for each column\n",
    "    df_col = df_col.loc[df_col['% of Total Values'] <= 99] #Filter dataframe with less missing values\n",
    "    df_col = df_col.index.values.tolist() #Convert dataframe to columns list\n",
    "    return df_col"
   ]
  },
  {
   "cell_type": "code",
   "execution_count": 18,
   "metadata": {},
   "outputs": [],
   "source": [
    "#Eliminate Categorical Variables with more than 99% missing values\n",
    "df_cat_col = missing_values_table(df_cat)\n",
    "df_elim_col = df_cat_col.loc[df_cat_col['% of Total Values'] > 99]\n",
    "df_elim_col = df_elim_col.index.values.tolist()\n",
    "df_elim = df_cat[df_elim_col]"
   ]
  },
  {
   "cell_type": "code",
   "execution_count": 19,
   "metadata": {},
   "outputs": [
    {
     "name": "stdout",
     "output_type": "stream",
     "text": [
      "(69713, 1)\n"
     ]
    }
   ],
   "source": [
    "#Verify whether eliminated categorical fields have 100% correlation\n",
    "df_elim = df_elim.join(df_Y)\n",
    "print df_elim.shape"
   ]
  },
  {
   "cell_type": "code",
   "execution_count": 20,
   "metadata": {},
   "outputs": [
    {
     "data": {
      "text/html": [
       "<div>\n",
       "<table border=\"1\" class=\"dataframe\">\n",
       "  <thead>\n",
       "    <tr style=\"text-align: right;\">\n",
       "      <th></th>\n",
       "      <th>Approved</th>\n",
       "    </tr>\n",
       "  </thead>\n",
       "  <tbody>\n",
       "    <tr>\n",
       "      <th>0</th>\n",
       "      <td>0</td>\n",
       "    </tr>\n",
       "    <tr>\n",
       "      <th>1</th>\n",
       "      <td>0</td>\n",
       "    </tr>\n",
       "    <tr>\n",
       "      <th>2</th>\n",
       "      <td>0</td>\n",
       "    </tr>\n",
       "    <tr>\n",
       "      <th>3</th>\n",
       "      <td>0</td>\n",
       "    </tr>\n",
       "    <tr>\n",
       "      <th>4</th>\n",
       "      <td>0</td>\n",
       "    </tr>\n",
       "  </tbody>\n",
       "</table>\n",
       "</div>"
      ],
      "text/plain": [
       "   Approved\n",
       "0         0\n",
       "1         0\n",
       "2         0\n",
       "3         0\n",
       "4         0"
      ]
     },
     "execution_count": 20,
     "metadata": {},
     "output_type": "execute_result"
    }
   ],
   "source": [
    "df_elim.head(5)"
   ]
  },
  {
   "cell_type": "code",
   "execution_count": 21,
   "metadata": {},
   "outputs": [
    {
     "name": "stdout",
     "output_type": "stream",
     "text": [
      "(69713, 7) (69713, 12)\n"
     ]
    }
   ],
   "source": [
    "#Numerical variables with LT 99% missing values\n",
    "df_num_col = non_missing_col(df_num)\n",
    "df_num = df_num[df_num_col]\n",
    "#Categorical variables with LT 99% missing values\n",
    "df_cat_col = non_missing_col(df_cat)\n",
    "df_cat = df_cat[df_cat_col]\n",
    "print df_num.shape, df_cat.shape"
   ]
  },
  {
   "cell_type": "code",
   "execution_count": 22,
   "metadata": {},
   "outputs": [
    {
     "data": {
      "text/html": [
       "<div>\n",
       "<table border=\"1\" class=\"dataframe\">\n",
       "  <thead>\n",
       "    <tr style=\"text-align: right;\">\n",
       "      <th></th>\n",
       "      <th>count</th>\n",
       "    </tr>\n",
       "  </thead>\n",
       "  <tbody>\n",
       "    <tr>\n",
       "      <th>Gender</th>\n",
       "      <td>2</td>\n",
       "    </tr>\n",
       "    <tr>\n",
       "      <th>City_Code</th>\n",
       "      <td>678</td>\n",
       "    </tr>\n",
       "    <tr>\n",
       "      <th>City_Category</th>\n",
       "      <td>3</td>\n",
       "    </tr>\n",
       "    <tr>\n",
       "      <th>Employer_Code</th>\n",
       "      <td>36617</td>\n",
       "    </tr>\n",
       "    <tr>\n",
       "      <th>Employer_Category1</th>\n",
       "      <td>3</td>\n",
       "    </tr>\n",
       "    <tr>\n",
       "      <th>Employer_Category2</th>\n",
       "      <td>5</td>\n",
       "    </tr>\n",
       "    <tr>\n",
       "      <th>Customer_Existing_Primary_Bank_Code</th>\n",
       "      <td>57</td>\n",
       "    </tr>\n",
       "    <tr>\n",
       "      <th>Primary_Bank_Type</th>\n",
       "      <td>2</td>\n",
       "    </tr>\n",
       "    <tr>\n",
       "      <th>Contacted</th>\n",
       "      <td>2</td>\n",
       "    </tr>\n",
       "    <tr>\n",
       "      <th>Source</th>\n",
       "      <td>29</td>\n",
       "    </tr>\n",
       "    <tr>\n",
       "      <th>Source_Category</th>\n",
       "      <td>7</td>\n",
       "    </tr>\n",
       "    <tr>\n",
       "      <th>Var1</th>\n",
       "      <td>5</td>\n",
       "    </tr>\n",
       "  </tbody>\n",
       "</table>\n",
       "</div>"
      ],
      "text/plain": [
       "                                     count\n",
       "Gender                                   2\n",
       "City_Code                              678\n",
       "City_Category                            3\n",
       "Employer_Code                        36617\n",
       "Employer_Category1                       3\n",
       "Employer_Category2                       5\n",
       "Customer_Existing_Primary_Bank_Code     57\n",
       "Primary_Bank_Type                        2\n",
       "Contacted                                2\n",
       "Source                                  29\n",
       "Source_Category                          7\n",
       "Var1                                     5"
      ]
     },
     "execution_count": 22,
     "metadata": {},
     "output_type": "execute_result"
    }
   ],
   "source": [
    "#Find Count of distinct values in categorical fields\n",
    "count = df_cat.apply(pd.Series.nunique)\n",
    "dstnct_cnt_col = pd.DataFrame(count, columns=['count'])\n",
    "dstnct_cnt_col"
   ]
  },
  {
   "cell_type": "code",
   "execution_count": 23,
   "metadata": {},
   "outputs": [],
   "source": [
    "#Eliminate Variables by intuition\n",
    "df_cat_col.remove('Employer_Code') #Not suitable for prediction - too many values\n",
    "# df_cat_col.remove('City_Code') #Not suitable for prediction - too many values\n",
    "df_cat = df_cat[df_cat_col]"
   ]
  },
  {
   "cell_type": "code",
   "execution_count": 24,
   "metadata": {},
   "outputs": [
    {
     "data": {
      "text/html": [
       "<div>\n",
       "<table border=\"1\" class=\"dataframe\">\n",
       "  <thead>\n",
       "    <tr style=\"text-align: right;\">\n",
       "      <th></th>\n",
       "      <th>count</th>\n",
       "    </tr>\n",
       "  </thead>\n",
       "  <tbody>\n",
       "    <tr>\n",
       "      <th>Gender</th>\n",
       "      <td>2</td>\n",
       "    </tr>\n",
       "    <tr>\n",
       "      <th>City_Code</th>\n",
       "      <td>678</td>\n",
       "    </tr>\n",
       "    <tr>\n",
       "      <th>City_Category</th>\n",
       "      <td>3</td>\n",
       "    </tr>\n",
       "    <tr>\n",
       "      <th>Employer_Category1</th>\n",
       "      <td>3</td>\n",
       "    </tr>\n",
       "    <tr>\n",
       "      <th>Employer_Category2</th>\n",
       "      <td>5</td>\n",
       "    </tr>\n",
       "    <tr>\n",
       "      <th>Customer_Existing_Primary_Bank_Code</th>\n",
       "      <td>57</td>\n",
       "    </tr>\n",
       "    <tr>\n",
       "      <th>Primary_Bank_Type</th>\n",
       "      <td>2</td>\n",
       "    </tr>\n",
       "    <tr>\n",
       "      <th>Contacted</th>\n",
       "      <td>2</td>\n",
       "    </tr>\n",
       "    <tr>\n",
       "      <th>Source</th>\n",
       "      <td>29</td>\n",
       "    </tr>\n",
       "    <tr>\n",
       "      <th>Source_Category</th>\n",
       "      <td>7</td>\n",
       "    </tr>\n",
       "    <tr>\n",
       "      <th>Var1</th>\n",
       "      <td>5</td>\n",
       "    </tr>\n",
       "  </tbody>\n",
       "</table>\n",
       "</div>"
      ],
      "text/plain": [
       "                                     count\n",
       "Gender                                   2\n",
       "City_Code                              678\n",
       "City_Category                            3\n",
       "Employer_Category1                       3\n",
       "Employer_Category2                       5\n",
       "Customer_Existing_Primary_Bank_Code     57\n",
       "Primary_Bank_Type                        2\n",
       "Contacted                                2\n",
       "Source                                  29\n",
       "Source_Category                          7\n",
       "Var1                                     5"
      ]
     },
     "execution_count": 24,
     "metadata": {},
     "output_type": "execute_result"
    }
   ],
   "source": [
    "#Find Count of distinct values in categorical fields\n",
    "count = df_cat.apply(pd.Series.nunique)\n",
    "dstnct_cnt_col = pd.DataFrame(count, columns=['count'])\n",
    "dstnct_cnt_col"
   ]
  },
  {
   "cell_type": "code",
   "execution_count": 25,
   "metadata": {},
   "outputs": [],
   "source": [
    "#Binary Variables(1 or 2)\n",
    "df_binary_col = dstnct_cnt_col.loc[dstnct_cnt_col['count'] <=2]\n",
    "df_binary_col = df_binary_col.index.values.tolist()\n",
    "df_binary = df_cat[df_binary_col]\n",
    "#Nominal Variables(2+)\n",
    "df_nominal_col = dstnct_cnt_col.loc[dstnct_cnt_col['count'] >2]\n",
    "df_nominal_col = df_nominal_col.index.values.tolist()\n",
    "df_nominal = df_cat[df_nominal_col]"
   ]
  },
  {
   "cell_type": "code",
   "execution_count": 26,
   "metadata": {},
   "outputs": [
    {
     "data": {
      "text/html": [
       "<div>\n",
       "<table border=\"1\" class=\"dataframe\">\n",
       "  <thead>\n",
       "    <tr style=\"text-align: right;\">\n",
       "      <th></th>\n",
       "      <th>Gender</th>\n",
       "      <th>City_Code</th>\n",
       "      <th>City_Category</th>\n",
       "      <th>Employer_Code</th>\n",
       "      <th>Employer_Category1</th>\n",
       "      <th>Employer_Category2</th>\n",
       "      <th>Monthly_Income</th>\n",
       "      <th>Customer_Existing_Primary_Bank_Code</th>\n",
       "      <th>Primary_Bank_Type</th>\n",
       "      <th>Contacted</th>\n",
       "      <th>Source</th>\n",
       "      <th>Source_Category</th>\n",
       "      <th>Existing_EMI</th>\n",
       "      <th>Loan_Amount</th>\n",
       "      <th>Loan_Period</th>\n",
       "      <th>Interest_Rate</th>\n",
       "      <th>EMI</th>\n",
       "      <th>Var1</th>\n",
       "      <th>Age</th>\n",
       "    </tr>\n",
       "  </thead>\n",
       "  <tbody>\n",
       "    <tr>\n",
       "      <th>0</th>\n",
       "      <td>Female</td>\n",
       "      <td>C10001</td>\n",
       "      <td>A</td>\n",
       "      <td>COM0044082</td>\n",
       "      <td>A</td>\n",
       "      <td>4.0</td>\n",
       "      <td>2000.0</td>\n",
       "      <td>B001</td>\n",
       "      <td>P</td>\n",
       "      <td>N</td>\n",
       "      <td>S122</td>\n",
       "      <td>G</td>\n",
       "      <td>0.0</td>\n",
       "      <td>NaN</td>\n",
       "      <td>NaN</td>\n",
       "      <td>NaN</td>\n",
       "      <td>NaN</td>\n",
       "      <td>0</td>\n",
       "      <td>37</td>\n",
       "    </tr>\n",
       "    <tr>\n",
       "      <th>1</th>\n",
       "      <td>Male</td>\n",
       "      <td>C10003</td>\n",
       "      <td>A</td>\n",
       "      <td>COM0000002</td>\n",
       "      <td>C</td>\n",
       "      <td>1.0</td>\n",
       "      <td>3500.0</td>\n",
       "      <td>B002</td>\n",
       "      <td>P</td>\n",
       "      <td>Y</td>\n",
       "      <td>S122</td>\n",
       "      <td>G</td>\n",
       "      <td>0.0</td>\n",
       "      <td>20000.0</td>\n",
       "      <td>2.0</td>\n",
       "      <td>13.25</td>\n",
       "      <td>953.0</td>\n",
       "      <td>10</td>\n",
       "      <td>30</td>\n",
       "    </tr>\n",
       "    <tr>\n",
       "      <th>2</th>\n",
       "      <td>Male</td>\n",
       "      <td>C10125</td>\n",
       "      <td>C</td>\n",
       "      <td>COM0005267</td>\n",
       "      <td>C</td>\n",
       "      <td>4.0</td>\n",
       "      <td>2250.0</td>\n",
       "      <td>B003</td>\n",
       "      <td>G</td>\n",
       "      <td>Y</td>\n",
       "      <td>S143</td>\n",
       "      <td>B</td>\n",
       "      <td>0.0</td>\n",
       "      <td>45000.0</td>\n",
       "      <td>4.0</td>\n",
       "      <td>NaN</td>\n",
       "      <td>NaN</td>\n",
       "      <td>0</td>\n",
       "      <td>34</td>\n",
       "    </tr>\n",
       "    <tr>\n",
       "      <th>3</th>\n",
       "      <td>Male</td>\n",
       "      <td>C10477</td>\n",
       "      <td>C</td>\n",
       "      <td>COM0004143</td>\n",
       "      <td>A</td>\n",
       "      <td>4.0</td>\n",
       "      <td>3500.0</td>\n",
       "      <td>B003</td>\n",
       "      <td>G</td>\n",
       "      <td>Y</td>\n",
       "      <td>S143</td>\n",
       "      <td>B</td>\n",
       "      <td>0.0</td>\n",
       "      <td>92000.0</td>\n",
       "      <td>5.0</td>\n",
       "      <td>NaN</td>\n",
       "      <td>NaN</td>\n",
       "      <td>7</td>\n",
       "      <td>28</td>\n",
       "    </tr>\n",
       "    <tr>\n",
       "      <th>4</th>\n",
       "      <td>Male</td>\n",
       "      <td>C10002</td>\n",
       "      <td>A</td>\n",
       "      <td>COM0001781</td>\n",
       "      <td>A</td>\n",
       "      <td>4.0</td>\n",
       "      <td>10000.0</td>\n",
       "      <td>B001</td>\n",
       "      <td>P</td>\n",
       "      <td>Y</td>\n",
       "      <td>S134</td>\n",
       "      <td>B</td>\n",
       "      <td>2500.0</td>\n",
       "      <td>50000.0</td>\n",
       "      <td>2.0</td>\n",
       "      <td>NaN</td>\n",
       "      <td>NaN</td>\n",
       "      <td>10</td>\n",
       "      <td>31</td>\n",
       "    </tr>\n",
       "  </tbody>\n",
       "</table>\n",
       "</div>"
      ],
      "text/plain": [
       "   Gender City_Code City_Category Employer_Code Employer_Category1  \\\n",
       "0  Female    C10001             A    COM0044082                  A   \n",
       "1    Male    C10003             A    COM0000002                  C   \n",
       "2    Male    C10125             C    COM0005267                  C   \n",
       "3    Male    C10477             C    COM0004143                  A   \n",
       "4    Male    C10002             A    COM0001781                  A   \n",
       "\n",
       "  Employer_Category2  Monthly_Income Customer_Existing_Primary_Bank_Code  \\\n",
       "0                4.0          2000.0                                B001   \n",
       "1                1.0          3500.0                                B002   \n",
       "2                4.0          2250.0                                B003   \n",
       "3                4.0          3500.0                                B003   \n",
       "4                4.0         10000.0                                B001   \n",
       "\n",
       "  Primary_Bank_Type Contacted Source Source_Category  Existing_EMI  \\\n",
       "0                 P         N   S122               G           0.0   \n",
       "1                 P         Y   S122               G           0.0   \n",
       "2                 G         Y   S143               B           0.0   \n",
       "3                 G         Y   S143               B           0.0   \n",
       "4                 P         Y   S134               B        2500.0   \n",
       "\n",
       "   Loan_Amount  Loan_Period  Interest_Rate    EMI Var1  Age  \n",
       "0          NaN          NaN            NaN    NaN    0   37  \n",
       "1      20000.0          2.0          13.25  953.0   10   30  \n",
       "2      45000.0          4.0            NaN    NaN    0   34  \n",
       "3      92000.0          5.0            NaN    NaN    7   28  \n",
       "4      50000.0          2.0            NaN    NaN   10   31  "
      ]
     },
     "execution_count": 26,
     "metadata": {},
     "output_type": "execute_result"
    }
   ],
   "source": [
    "df.head(5)"
   ]
  },
  {
   "cell_type": "code",
   "execution_count": 27,
   "metadata": {},
   "outputs": [],
   "source": [
    "# df = df_bkp"
   ]
  },
  {
   "cell_type": "code",
   "execution_count": 28,
   "metadata": {
    "scrolled": true
   },
   "outputs": [
    {
     "data": {
      "image/png": "[encoded data removed]",
      "text/plain": [
       "<matplotlib.figure.Figure at 0x1107a7510>"
      ]
     },
     "metadata": {},
     "output_type": "display_data"
    },
    {
     "data": {
      "image/png": "[encoded data removed]",
      "text/plain": [
       "<matplotlib.figure.Figure at 0x1126b4150>"
      ]
     },
     "metadata": {},
     "output_type": "display_data"
    },
    {
     "data": {
      "image/png": "[encoded data removed]",
      "text/plain": [
       "<matplotlib.figure.Figure at 0x112cda910>"
      ]
     },
     "metadata": {},
     "output_type": "display_data"
    }
   ],
   "source": [
    "#EDA plots - 1 \n",
    "#Univariate analysis - Checking distribution of binary variables\n",
    "for i in df_binary_col:\n",
    "    fig, ax = plt.subplots()\n",
    "    fig.set_size_inches(12, 9)\n",
    "    sns.countplot(x=i, data=df_cat);\n",
    "    plt.show()"
   ]
  },
  {
   "cell_type": "code",
   "execution_count": 29,
   "metadata": {
    "scrolled": true
   },
   "outputs": [
    {
     "data": {
      "image/png": "[encoded data removed]",
      "text/plain": [
       "<matplotlib.figure.Figure at 0x112f23f90>"
      ]
     },
     "metadata": {},
     "output_type": "display_data"
    },
    {
     "data": {
      "image/png": "[encoded data removed]",
      "text/plain": [
       "<matplotlib.figure.Figure at 0x1192d1050>"
      ]
     },
     "metadata": {},
     "output_type": "display_data"
    },
    {
     "data": {
      "image/png": "[encoded data removed]",
      "text/plain": [
       "<matplotlib.figure.Figure at 0x1192be290>"
      ]
     },
     "metadata": {},
     "output_type": "display_data"
    },
    {
     "data": {
      "image/png": "[encoded data removed]",
      "text/plain": [
       "<matplotlib.figure.Figure at 0x1193db290>"
      ]
     },
     "metadata": {},
     "output_type": "display_data"
    },
    {
     "data": {
      "image/png": "[encoded data removed]",
      "text/plain": [
       "<matplotlib.figure.Figure at 0x118209f90>"
      ]
     },
     "metadata": {},
     "output_type": "display_data"
    },
    {
     "data": {
      "image/png": "[encoded data removed]",
      "text/plain": [
       "<matplotlib.figure.Figure at 0x1196d4b90>"
      ]
     },
     "metadata": {},
     "output_type": "display_data"
    },
    {
     "data": {
      "image/png": "[encoded data removed]",
      "text/plain": [
       "<matplotlib.figure.Figure at 0x104333210>"
      ]
     },
     "metadata": {},
     "output_type": "display_data"
    },
    {
     "data": {
      "image/png": "[encoded data removed]",
      "text/plain": [
       "<matplotlib.figure.Figure at 0x117e43650>"
      ]
     },
     "metadata": {},
     "output_type": "display_data"
    }
   ],
   "source": [
    "#EDA plots - 2 \n",
    "#Univariate analysis - Checking distribution of nominal variables\n",
    "for i in df_nominal_col:\n",
    "    fig, ax = plt.subplots()\n",
    "    fig.set_size_inches(12, 9)\n",
    "    sns.countplot(x=i, data=df_cat);\n",
    "    plt.show()"
   ]
  },
  {
   "cell_type": "code",
   "execution_count": 31,
   "metadata": {
    "scrolled": false
   },
   "outputs": [],
   "source": [
    "#EDA plots - 2 (Test)\n",
    "#Univariate analysis - Checking distribution of nominal variables\n",
    "for i in df_nominal_col:\n",
    "    fig, ax = plt.subplots()\n",
    "    fig.set_size_inches(12, 9)\n",
    "    sns.countplot(x=i, data=df_test_cat);\n",
    "    plt.show()"
   ]
  },
  {
   "cell_type": "code",
   "execution_count": null,
   "metadata": {},
   "outputs": [],
   "source": [
    "#EDA plots - 3\n",
    "#Univariate analysis - Checking distribution of numerical variables using histogram\n",
    "for i in df_num_col:\n",
    "    df_num.hist(column=i, bins = 100)\n",
    "    plt.show()"
   ]
  },
  {
   "cell_type": "code",
   "execution_count": null,
   "metadata": {},
   "outputs": [],
   "source": [
    "# df_num.describe()"
   ]
  },
  {
   "cell_type": "code",
   "execution_count": null,
   "metadata": {},
   "outputs": [],
   "source": [
    "# #Eliminate Variables by intuition\n",
    "# df_num_col.remove('zip') #Not suitable for prediction - too many values\n",
    "# df_num = df_num[df_num_col]\n",
    "# df_binary_col.remove('FRX_PrevQ1_N') #Not suitable for prediction - single value"
   ]
  },
  {
   "cell_type": "code",
   "execution_count": null,
   "metadata": {},
   "outputs": [],
   "source": [
    "#EDA plots - 4\n",
    "#Target distribution\n",
    "df_Y_col = df_Y.index.values.tolist()\n",
    "fig, ax = plt.subplots()\n",
    "fig.set_size_inches(12, 9)\n",
    "sns.countplot(x = df_Y_col, data=df_Y);\n",
    "plt.show()"
   ]
  },
  {
   "cell_type": "code",
   "execution_count": null,
   "metadata": {},
   "outputs": [],
   "source": [
    "#EDA - 5 Bi-variate analysis on binary variables\n",
    "for i in df_binary_col:\n",
    "    fig, ax = plt.subplots()\n",
    "    fig.set_size_inches(12, 9)\n",
    "    sns.countplot(x=i, data=df, hue='Approved')\n",
    "    plt.show()"
   ]
  },
  {
   "cell_type": "code",
   "execution_count": null,
   "metadata": {},
   "outputs": [],
   "source": [
    "#EDA - 6 Bi-variate analysis on nominal variables\n",
    "for i in df_nominal_col:\n",
    "    fig, ax = plt.subplots()\n",
    "    fig.set_size_inches(12, 9)\n",
    "    sns.countplot(x=i, data=df, hue='Approved')\n",
    "    plt.show()"
   ]
  },
  {
   "cell_type": "code",
   "execution_count": null,
   "metadata": {},
   "outputs": [],
   "source": [
    "dstnct_cnt_col"
   ]
  },
  {
   "cell_type": "code",
   "execution_count": 257,
   "metadata": {},
   "outputs": [],
   "source": [
    "df = df_bkp"
   ]
  },
  {
   "cell_type": "code",
   "execution_count": 258,
   "metadata": {},
   "outputs": [],
   "source": [
    "df = df.drop(['ID','Employer_Code'], axis =1)"
   ]
  },
  {
   "cell_type": "code",
   "execution_count": 259,
   "metadata": {
    "scrolled": true
   },
   "outputs": [],
   "source": [
    "##Reducing categories by binning categorical variables\n",
    "a = df.City_Code.value_counts()\n",
    "# print (a)\n",
    "#get top 5 values of index\n",
    "vals = a[:5].index\n",
    "# print (vals)\n",
    "df['City_Code_new'] = df.City_Code.where(df.City_Code.isin(vals), 'other')\n",
    "df = df.drop(['City_Code'],axis=1)"
   ]
  },
  {
   "cell_type": "code",
   "execution_count": 260,
   "metadata": {},
   "outputs": [],
   "source": [
    "a = df.Customer_Existing_Primary_Bank_Code.value_counts()\n",
    "# print (a)\n",
    "#get top 4 values of index\n",
    "vals = a[:4].index\n",
    "# print (vals)\n",
    "df['Customer_Existing_Primary_Bank_Code_new'] = df.Customer_Existing_Primary_Bank_Code.where(df.Customer_Existing_Primary_Bank_Code.isin(vals), 'other')\n",
    "df = df.drop(['Customer_Existing_Primary_Bank_Code'],axis=1)"
   ]
  },
  {
   "cell_type": "code",
   "execution_count": 261,
   "metadata": {},
   "outputs": [],
   "source": [
    "a = df.Source.value_counts()\n",
    "# print (a)\n",
    "#get top 4 values of index\n",
    "vals = a[:4].index\n",
    "# print (vals)\n",
    "df['Source_new'] = df.Source.where(df.Source.isin(vals), 'other')\n",
    "df = df.drop(['Source'],axis=1)"
   ]
  },
  {
   "cell_type": "code",
   "execution_count": 262,
   "metadata": {},
   "outputs": [],
   "source": [
    "a = df.Source_Category.value_counts()\n",
    "# print (a)\n",
    "#get top 3 values of index\n",
    "vals = a[:3].index\n",
    "# print (vals)\n",
    "df['Source_Category_new'] = df.Source_Category.where(df.Source_Category.isin(vals), 'other')\n",
    "df = df.drop(['Source_Category'],axis=1)"
   ]
  },
  {
   "cell_type": "code",
   "execution_count": 263,
   "metadata": {},
   "outputs": [],
   "source": [
    "#Filter columns into numerical & categorical\n",
    "df_num = df.select_dtypes(include=[np.number]) #Numbers which are categories must be verified\n",
    "df_cat = df.select_dtypes(exclude=[np.number])"
   ]
  },
  {
   "cell_type": "code",
   "execution_count": 264,
   "metadata": {},
   "outputs": [],
   "source": [
    "df_cat_col = non_missing_col(df_cat)\n",
    "df_cat = df_cat[df_cat_col]"
   ]
  },
  {
   "cell_type": "code",
   "execution_count": 265,
   "metadata": {},
   "outputs": [
    {
     "data": {
      "text/html": [
       "<div>\n",
       "<table border=\"1\" class=\"dataframe\">\n",
       "  <thead>\n",
       "    <tr style=\"text-align: right;\">\n",
       "      <th></th>\n",
       "      <th>count</th>\n",
       "    </tr>\n",
       "  </thead>\n",
       "  <tbody>\n",
       "    <tr>\n",
       "      <th>Gender</th>\n",
       "      <td>2</td>\n",
       "    </tr>\n",
       "    <tr>\n",
       "      <th>City_Category</th>\n",
       "      <td>3</td>\n",
       "    </tr>\n",
       "    <tr>\n",
       "      <th>Employer_Category1</th>\n",
       "      <td>3</td>\n",
       "    </tr>\n",
       "    <tr>\n",
       "      <th>Employer_Category2</th>\n",
       "      <td>5</td>\n",
       "    </tr>\n",
       "    <tr>\n",
       "      <th>Primary_Bank_Type</th>\n",
       "      <td>2</td>\n",
       "    </tr>\n",
       "    <tr>\n",
       "      <th>Contacted</th>\n",
       "      <td>2</td>\n",
       "    </tr>\n",
       "    <tr>\n",
       "      <th>Var1</th>\n",
       "      <td>5</td>\n",
       "    </tr>\n",
       "    <tr>\n",
       "      <th>City_Code_new</th>\n",
       "      <td>6</td>\n",
       "    </tr>\n",
       "    <tr>\n",
       "      <th>Customer_Existing_Primary_Bank_Code_new</th>\n",
       "      <td>5</td>\n",
       "    </tr>\n",
       "    <tr>\n",
       "      <th>Source_new</th>\n",
       "      <td>5</td>\n",
       "    </tr>\n",
       "    <tr>\n",
       "      <th>Source_Category_new</th>\n",
       "      <td>4</td>\n",
       "    </tr>\n",
       "  </tbody>\n",
       "</table>\n",
       "</div>"
      ],
      "text/plain": [
       "                                         count\n",
       "Gender                                       2\n",
       "City_Category                                3\n",
       "Employer_Category1                           3\n",
       "Employer_Category2                           5\n",
       "Primary_Bank_Type                            2\n",
       "Contacted                                    2\n",
       "Var1                                         5\n",
       "City_Code_new                                6\n",
       "Customer_Existing_Primary_Bank_Code_new      5\n",
       "Source_new                                   5\n",
       "Source_Category_new                          4"
      ]
     },
     "execution_count": 265,
     "metadata": {},
     "output_type": "execute_result"
    }
   ],
   "source": [
    "#Find Count of distinct values in categorical fields\n",
    "count = df_cat.apply(pd.Series.nunique)\n",
    "dstnct_cnt_col = pd.DataFrame(count, columns=['count'])\n",
    "dstnct_cnt_col"
   ]
  },
  {
   "cell_type": "code",
   "execution_count": 266,
   "metadata": {},
   "outputs": [],
   "source": [
    "#Nominal Variables(2+)\n",
    "df_nominal_col = dstnct_cnt_col.loc[dstnct_cnt_col['count'] >2]\n",
    "df_nominal_col = df_nominal_col.index.values.tolist()\n",
    "df_nominal = df_cat[df_nominal_col]"
   ]
  },
  {
   "cell_type": "code",
   "execution_count": 267,
   "metadata": {},
   "outputs": [
    {
     "data": {
      "text/html": [
       "<div>\n",
       "<table border=\"1\" class=\"dataframe\">\n",
       "  <thead>\n",
       "    <tr style=\"text-align: right;\">\n",
       "      <th></th>\n",
       "      <th>Gender</th>\n",
       "      <th>City_Category</th>\n",
       "      <th>Employer_Category1</th>\n",
       "      <th>Employer_Category2</th>\n",
       "      <th>Monthly_Income</th>\n",
       "      <th>Primary_Bank_Type</th>\n",
       "      <th>Contacted</th>\n",
       "      <th>Existing_EMI</th>\n",
       "      <th>Loan_Amount</th>\n",
       "      <th>Loan_Period</th>\n",
       "      <th>Interest_Rate</th>\n",
       "      <th>EMI</th>\n",
       "      <th>Var1</th>\n",
       "      <th>Approved</th>\n",
       "      <th>Age</th>\n",
       "      <th>City_Code_new</th>\n",
       "      <th>Customer_Existing_Primary_Bank_Code_new</th>\n",
       "      <th>Source_new</th>\n",
       "      <th>Source_Category_new</th>\n",
       "    </tr>\n",
       "  </thead>\n",
       "  <tbody>\n",
       "    <tr>\n",
       "      <th>0</th>\n",
       "      <td>Female</td>\n",
       "      <td>A</td>\n",
       "      <td>A</td>\n",
       "      <td>4.0</td>\n",
       "      <td>2000.0</td>\n",
       "      <td>P</td>\n",
       "      <td>N</td>\n",
       "      <td>0.0</td>\n",
       "      <td>NaN</td>\n",
       "      <td>NaN</td>\n",
       "      <td>NaN</td>\n",
       "      <td>NaN</td>\n",
       "      <td>0</td>\n",
       "      <td>0</td>\n",
       "      <td>37</td>\n",
       "      <td>C10001</td>\n",
       "      <td>B001</td>\n",
       "      <td>S122</td>\n",
       "      <td>G</td>\n",
       "    </tr>\n",
       "    <tr>\n",
       "      <th>1</th>\n",
       "      <td>Male</td>\n",
       "      <td>A</td>\n",
       "      <td>C</td>\n",
       "      <td>1.0</td>\n",
       "      <td>3500.0</td>\n",
       "      <td>P</td>\n",
       "      <td>Y</td>\n",
       "      <td>0.0</td>\n",
       "      <td>20000.0</td>\n",
       "      <td>2.0</td>\n",
       "      <td>13.25</td>\n",
       "      <td>953.0</td>\n",
       "      <td>10</td>\n",
       "      <td>0</td>\n",
       "      <td>30</td>\n",
       "      <td>C10003</td>\n",
       "      <td>B002</td>\n",
       "      <td>S122</td>\n",
       "      <td>G</td>\n",
       "    </tr>\n",
       "    <tr>\n",
       "      <th>2</th>\n",
       "      <td>Male</td>\n",
       "      <td>C</td>\n",
       "      <td>C</td>\n",
       "      <td>4.0</td>\n",
       "      <td>2250.0</td>\n",
       "      <td>G</td>\n",
       "      <td>Y</td>\n",
       "      <td>0.0</td>\n",
       "      <td>45000.0</td>\n",
       "      <td>4.0</td>\n",
       "      <td>NaN</td>\n",
       "      <td>NaN</td>\n",
       "      <td>0</td>\n",
       "      <td>0</td>\n",
       "      <td>34</td>\n",
       "      <td>other</td>\n",
       "      <td>B003</td>\n",
       "      <td>S143</td>\n",
       "      <td>B</td>\n",
       "    </tr>\n",
       "    <tr>\n",
       "      <th>3</th>\n",
       "      <td>Male</td>\n",
       "      <td>C</td>\n",
       "      <td>A</td>\n",
       "      <td>4.0</td>\n",
       "      <td>3500.0</td>\n",
       "      <td>G</td>\n",
       "      <td>Y</td>\n",
       "      <td>0.0</td>\n",
       "      <td>92000.0</td>\n",
       "      <td>5.0</td>\n",
       "      <td>NaN</td>\n",
       "      <td>NaN</td>\n",
       "      <td>7</td>\n",
       "      <td>0</td>\n",
       "      <td>28</td>\n",
       "      <td>other</td>\n",
       "      <td>B003</td>\n",
       "      <td>S143</td>\n",
       "      <td>B</td>\n",
       "    </tr>\n",
       "    <tr>\n",
       "      <th>4</th>\n",
       "      <td>Male</td>\n",
       "      <td>A</td>\n",
       "      <td>A</td>\n",
       "      <td>4.0</td>\n",
       "      <td>10000.0</td>\n",
       "      <td>P</td>\n",
       "      <td>Y</td>\n",
       "      <td>2500.0</td>\n",
       "      <td>50000.0</td>\n",
       "      <td>2.0</td>\n",
       "      <td>NaN</td>\n",
       "      <td>NaN</td>\n",
       "      <td>10</td>\n",
       "      <td>0</td>\n",
       "      <td>31</td>\n",
       "      <td>C10002</td>\n",
       "      <td>B001</td>\n",
       "      <td>other</td>\n",
       "      <td>B</td>\n",
       "    </tr>\n",
       "  </tbody>\n",
       "</table>\n",
       "</div>"
      ],
      "text/plain": [
       "   Gender City_Category Employer_Category1 Employer_Category2  Monthly_Income  \\\n",
       "0  Female             A                  A                4.0          2000.0   \n",
       "1    Male             A                  C                1.0          3500.0   \n",
       "2    Male             C                  C                4.0          2250.0   \n",
       "3    Male             C                  A                4.0          3500.0   \n",
       "4    Male             A                  A                4.0         10000.0   \n",
       "\n",
       "  Primary_Bank_Type Contacted  Existing_EMI  Loan_Amount  Loan_Period  \\\n",
       "0                 P         N           0.0          NaN          NaN   \n",
       "1                 P         Y           0.0      20000.0          2.0   \n",
       "2                 G         Y           0.0      45000.0          4.0   \n",
       "3                 G         Y           0.0      92000.0          5.0   \n",
       "4                 P         Y        2500.0      50000.0          2.0   \n",
       "\n",
       "   Interest_Rate    EMI Var1  Approved  Age City_Code_new  \\\n",
       "0            NaN    NaN    0         0   37        C10001   \n",
       "1          13.25  953.0   10         0   30        C10003   \n",
       "2            NaN    NaN    0         0   34         other   \n",
       "3            NaN    NaN    7         0   28         other   \n",
       "4            NaN    NaN   10         0   31        C10002   \n",
       "\n",
       "  Customer_Existing_Primary_Bank_Code_new Source_new Source_Category_new  \n",
       "0                                    B001       S122                   G  \n",
       "1                                    B002       S122                   G  \n",
       "2                                    B003       S143                   B  \n",
       "3                                    B003       S143                   B  \n",
       "4                                    B001      other                   B  "
      ]
     },
     "execution_count": 267,
     "metadata": {},
     "output_type": "execute_result"
    }
   ],
   "source": [
    "df.head(5)"
   ]
  },
  {
   "cell_type": "code",
   "execution_count": 268,
   "metadata": {},
   "outputs": [],
   "source": [
    "# df_test = df_test_bkp"
   ]
  },
  {
   "cell_type": "code",
   "execution_count": 269,
   "metadata": {},
   "outputs": [],
   "source": [
    "Cust_id_test = df_test[['ID']]"
   ]
  },
  {
   "cell_type": "code",
   "execution_count": 270,
   "metadata": {},
   "outputs": [
    {
     "name": "stdout",
     "output_type": "stream",
     "text": [
      "(69713, 19) (30037, 20)\n"
     ]
    }
   ],
   "source": [
    "print df.shape, df_test.shape"
   ]
  },
  {
   "cell_type": "code",
   "execution_count": 271,
   "metadata": {},
   "outputs": [
    {
     "data": {
      "text/html": [
       "<div>\n",
       "<table border=\"1\" class=\"dataframe\">\n",
       "  <thead>\n",
       "    <tr style=\"text-align: right;\">\n",
       "      <th></th>\n",
       "      <th>Gender</th>\n",
       "      <th>City_Category</th>\n",
       "      <th>Employer_Category1</th>\n",
       "      <th>Employer_Category2</th>\n",
       "      <th>Monthly_Income</th>\n",
       "      <th>Primary_Bank_Type</th>\n",
       "      <th>Contacted</th>\n",
       "      <th>Existing_EMI</th>\n",
       "      <th>Loan_Amount</th>\n",
       "      <th>Loan_Period</th>\n",
       "      <th>Interest_Rate</th>\n",
       "      <th>EMI</th>\n",
       "      <th>Var1</th>\n",
       "      <th>Approved</th>\n",
       "      <th>Age</th>\n",
       "      <th>City_Code_new</th>\n",
       "      <th>Customer_Existing_Primary_Bank_Code_new</th>\n",
       "      <th>Source_new</th>\n",
       "      <th>Source_Category_new</th>\n",
       "    </tr>\n",
       "  </thead>\n",
       "  <tbody>\n",
       "    <tr>\n",
       "      <th>0</th>\n",
       "      <td>Female</td>\n",
       "      <td>A</td>\n",
       "      <td>A</td>\n",
       "      <td>4.0</td>\n",
       "      <td>2000.0</td>\n",
       "      <td>P</td>\n",
       "      <td>N</td>\n",
       "      <td>0.0</td>\n",
       "      <td>NaN</td>\n",
       "      <td>NaN</td>\n",
       "      <td>NaN</td>\n",
       "      <td>NaN</td>\n",
       "      <td>0</td>\n",
       "      <td>0</td>\n",
       "      <td>37</td>\n",
       "      <td>C10001</td>\n",
       "      <td>B001</td>\n",
       "      <td>S122</td>\n",
       "      <td>G</td>\n",
       "    </tr>\n",
       "    <tr>\n",
       "      <th>1</th>\n",
       "      <td>Male</td>\n",
       "      <td>A</td>\n",
       "      <td>C</td>\n",
       "      <td>1.0</td>\n",
       "      <td>3500.0</td>\n",
       "      <td>P</td>\n",
       "      <td>Y</td>\n",
       "      <td>0.0</td>\n",
       "      <td>20000.0</td>\n",
       "      <td>2.0</td>\n",
       "      <td>13.25</td>\n",
       "      <td>953.0</td>\n",
       "      <td>10</td>\n",
       "      <td>0</td>\n",
       "      <td>30</td>\n",
       "      <td>C10003</td>\n",
       "      <td>B002</td>\n",
       "      <td>S122</td>\n",
       "      <td>G</td>\n",
       "    </tr>\n",
       "    <tr>\n",
       "      <th>2</th>\n",
       "      <td>Male</td>\n",
       "      <td>C</td>\n",
       "      <td>C</td>\n",
       "      <td>4.0</td>\n",
       "      <td>2250.0</td>\n",
       "      <td>G</td>\n",
       "      <td>Y</td>\n",
       "      <td>0.0</td>\n",
       "      <td>45000.0</td>\n",
       "      <td>4.0</td>\n",
       "      <td>NaN</td>\n",
       "      <td>NaN</td>\n",
       "      <td>0</td>\n",
       "      <td>0</td>\n",
       "      <td>34</td>\n",
       "      <td>other</td>\n",
       "      <td>B003</td>\n",
       "      <td>S143</td>\n",
       "      <td>B</td>\n",
       "    </tr>\n",
       "    <tr>\n",
       "      <th>3</th>\n",
       "      <td>Male</td>\n",
       "      <td>C</td>\n",
       "      <td>A</td>\n",
       "      <td>4.0</td>\n",
       "      <td>3500.0</td>\n",
       "      <td>G</td>\n",
       "      <td>Y</td>\n",
       "      <td>0.0</td>\n",
       "      <td>92000.0</td>\n",
       "      <td>5.0</td>\n",
       "      <td>NaN</td>\n",
       "      <td>NaN</td>\n",
       "      <td>7</td>\n",
       "      <td>0</td>\n",
       "      <td>28</td>\n",
       "      <td>other</td>\n",
       "      <td>B003</td>\n",
       "      <td>S143</td>\n",
       "      <td>B</td>\n",
       "    </tr>\n",
       "    <tr>\n",
       "      <th>4</th>\n",
       "      <td>Male</td>\n",
       "      <td>A</td>\n",
       "      <td>A</td>\n",
       "      <td>4.0</td>\n",
       "      <td>10000.0</td>\n",
       "      <td>P</td>\n",
       "      <td>Y</td>\n",
       "      <td>2500.0</td>\n",
       "      <td>50000.0</td>\n",
       "      <td>2.0</td>\n",
       "      <td>NaN</td>\n",
       "      <td>NaN</td>\n",
       "      <td>10</td>\n",
       "      <td>0</td>\n",
       "      <td>31</td>\n",
       "      <td>C10002</td>\n",
       "      <td>B001</td>\n",
       "      <td>other</td>\n",
       "      <td>B</td>\n",
       "    </tr>\n",
       "  </tbody>\n",
       "</table>\n",
       "</div>"
      ],
      "text/plain": [
       "   Gender City_Category Employer_Category1 Employer_Category2  Monthly_Income  \\\n",
       "0  Female             A                  A                4.0          2000.0   \n",
       "1    Male             A                  C                1.0          3500.0   \n",
       "2    Male             C                  C                4.0          2250.0   \n",
       "3    Male             C                  A                4.0          3500.0   \n",
       "4    Male             A                  A                4.0         10000.0   \n",
       "\n",
       "  Primary_Bank_Type Contacted  Existing_EMI  Loan_Amount  Loan_Period  \\\n",
       "0                 P         N           0.0          NaN          NaN   \n",
       "1                 P         Y           0.0      20000.0          2.0   \n",
       "2                 G         Y           0.0      45000.0          4.0   \n",
       "3                 G         Y           0.0      92000.0          5.0   \n",
       "4                 P         Y        2500.0      50000.0          2.0   \n",
       "\n",
       "   Interest_Rate    EMI Var1  Approved  Age City_Code_new  \\\n",
       "0            NaN    NaN    0         0   37        C10001   \n",
       "1          13.25  953.0   10         0   30        C10003   \n",
       "2            NaN    NaN    0         0   34         other   \n",
       "3            NaN    NaN    7         0   28         other   \n",
       "4            NaN    NaN   10         0   31        C10002   \n",
       "\n",
       "  Customer_Existing_Primary_Bank_Code_new Source_new Source_Category_new  \n",
       "0                                    B001       S122                   G  \n",
       "1                                    B002       S122                   G  \n",
       "2                                    B003       S143                   B  \n",
       "3                                    B003       S143                   B  \n",
       "4                                    B001      other                   B  "
      ]
     },
     "execution_count": 271,
     "metadata": {},
     "output_type": "execute_result"
    }
   ],
   "source": [
    "df.head(5)"
   ]
  },
  {
   "cell_type": "code",
   "execution_count": 272,
   "metadata": {},
   "outputs": [
    {
     "name": "stdout",
     "output_type": "stream",
     "text": [
      "Train shape :  (55770, 19)\n",
      "Validation shape :  (13943, 19)\n"
     ]
    }
   ],
   "source": [
    "#Training_Validation Split\n",
    "df_train, df_validation = train_test_split(df,test_size=0.20,random_state=190)\n",
    "print \"Train shape : \",df_train.shape\n",
    "print \"Validation shape : \",df_validation.shape"
   ]
  },
  {
   "cell_type": "code",
   "execution_count": 273,
   "metadata": {},
   "outputs": [
    {
     "name": "stdout",
     "output_type": "stream",
     "text": [
      "(55770,) (13943,)\n"
     ]
    }
   ],
   "source": [
    "#training Target\n",
    "train_Y = df_train ['Approved']\n",
    "validation_Y = df_validation ['Approved']\n",
    "print train_Y.shape, validation_Y.shape"
   ]
  },
  {
   "cell_type": "code",
   "execution_count": 274,
   "metadata": {},
   "outputs": [
    {
     "name": "stdout",
     "output_type": "stream",
     "text": [
      "Train shape :  (55770, 18)\n",
      "Validation shape :  (13943, 18)\n"
     ]
    }
   ],
   "source": [
    "df_train = df_train.drop(['Approved'], axis =1)\n",
    "df_validation = df_validation.drop(['Approved'], axis =1)\n",
    "print \"Train shape : \",df_train.shape\n",
    "print \"Validation shape : \",df_validation.shape"
   ]
  },
  {
   "cell_type": "code",
   "execution_count": 275,
   "metadata": {},
   "outputs": [],
   "source": [
    "df_train_num = df_train[df_num_col]\n",
    "df_validation_num = df_validation[df_num_col]\n",
    "df_test_num = df_test[df_num_col]"
   ]
  },
  {
   "cell_type": "code",
   "execution_count": 276,
   "metadata": {},
   "outputs": [
    {
     "name": "stdout",
     "output_type": "stream",
     "text": [
      "(55770, 7) (13943, 7) (30037, 7)\n"
     ]
    }
   ],
   "source": [
    "print df_train_num.shape, df_validation_num.shape, df_test_num.shape"
   ]
  },
  {
   "cell_type": "code",
   "execution_count": 277,
   "metadata": {},
   "outputs": [],
   "source": [
    "#Impute median values for numerical variables\n",
    "def impute_median(df):\n",
    "    fill_NaN = Imputer(missing_values=np.nan, strategy='median', axis=1)\n",
    "    imputed_df = pd.DataFrame(fill_NaN.fit_transform(df))\n",
    "    imputed_df.columns = df.columns\n",
    "    imputed_df.index = df.index\n",
    "    return imputed_df"
   ]
  },
  {
   "cell_type": "code",
   "execution_count": 278,
   "metadata": {},
   "outputs": [],
   "source": [
    "imputed_df_train_num = impute_median(df_train_num)\n",
    "imputed_df_validation_num = impute_median(df_validation_num)\n",
    "imputed_df_test_num = impute_median(df_test_num)"
   ]
  },
  {
   "cell_type": "code",
   "execution_count": 279,
   "metadata": {},
   "outputs": [
    {
     "name": "stdout",
     "output_type": "stream",
     "text": [
      "(55770, 7) (13943, 7) (30037, 7)\n"
     ]
    }
   ],
   "source": [
    "print imputed_df_train_num.shape, imputed_df_validation_num.shape, imputed_df_test_num.shape"
   ]
  },
  {
   "cell_type": "code",
   "execution_count": 280,
   "metadata": {},
   "outputs": [
    {
     "data": {
      "text/plain": [
       "['City_Category',\n",
       " 'Employer_Category1',\n",
       " 'Employer_Category2',\n",
       " 'Var1',\n",
       " 'City_Code_new',\n",
       " 'Customer_Existing_Primary_Bank_Code_new',\n",
       " 'Source_new',\n",
       " 'Source_Category_new']"
      ]
     },
     "execution_count": 280,
     "metadata": {},
     "output_type": "execute_result"
    }
   ],
   "source": [
    "df_nominal_col"
   ]
  },
  {
   "cell_type": "code",
   "execution_count": 281,
   "metadata": {},
   "outputs": [],
   "source": [
    "#Handling Categorical variables\n",
    "df_train_nominal = df_train[df_nominal_col]\n",
    "df_validation_nominal = df_validation[df_nominal_col]"
   ]
  },
  {
   "cell_type": "code",
   "execution_count": 284,
   "metadata": {},
   "outputs": [],
   "source": [
    "df_test_cat = df_test[df_cat_col]\n",
    "df_test_nominal = df_test[df_nominal_col]"
   ]
  },
  {
   "cell_type": "code",
   "execution_count": 302,
   "metadata": {
    "scrolled": true
   },
   "outputs": [],
   "source": [
    "print df_test_cat.shape, df_test_nominal.shape"
   ]
  },
  {
   "cell_type": "code",
   "execution_count": 285,
   "metadata": {},
   "outputs": [],
   "source": [
    "def impute_mode(df):\n",
    "    imputed_df = df.apply(lambda x:x.fillna(x.value_counts().index[0]))\n",
    "    return imputed_df"
   ]
  },
  {
   "cell_type": "code",
   "execution_count": 287,
   "metadata": {},
   "outputs": [],
   "source": [
    "imputed_df_train_nominal = impute_mode(df_train_nominal)\n",
    "imputed_df_validation_nominal = impute_mode(df_validation_nominal)\n",
    "imputed_df_test_nominal = impute_mode(df_test_nominal)"
   ]
  },
  {
   "cell_type": "code",
   "execution_count": 288,
   "metadata": {},
   "outputs": [],
   "source": [
    "#Function to creating dummy variables for Nominal fields for a set of columns\n",
    "def create_dummy_set(df_col,df):\n",
    "    for i in df_col:\n",
    "        dummies = pd.get_dummies(df[i]).rename(columns=lambda x: i+'_'+ str(x))\n",
    "        #Adding to input variables\n",
    "        df = pd.concat([df, dummies], axis=1)\n",
    "        #Dropping column without having to reassign\n",
    "        df.drop([i], inplace=True, axis=1)\n",
    "        print df.shape\n",
    "    return df"
   ]
  },
  {
   "cell_type": "code",
   "execution_count": 290,
   "metadata": {
    "scrolled": true
   },
   "outputs": [
    {
     "name": "stdout",
     "output_type": "stream",
     "text": [
      "(55770, 10)\n",
      "(55770, 12)\n",
      "(55770, 16)\n",
      "(55770, 20)\n",
      "(55770, 25)\n",
      "(55770, 29)\n",
      "(55770, 33)\n",
      "(55770, 36)\n",
      "(13943, 10)\n",
      "(13943, 12)\n",
      "(13943, 16)\n",
      "(13943, 20)\n",
      "(13943, 25)\n",
      "(13943, 29)\n",
      "(13943, 33)\n",
      "(13943, 36)\n"
     ]
    }
   ],
   "source": [
    "df_train_nominal = create_dummy_set(df_nominal_col,imputed_df_train_nominal)\n",
    "df_validation_nominal = create_dummy_set(df_nominal_col,imputed_df_validation_nominal)\n",
    "df_test_nominal = create_dummy_set(df_nominal_col,imputed_df_test_nominal)"
   ]
  },
  {
   "cell_type": "code",
   "execution_count": 291,
   "metadata": {},
   "outputs": [],
   "source": [
    "df_train_binary = df_train[df_binary_col]\n",
    "df_validation_binary = df_validation[df_binary_col]\n",
    "# df_test_binary = df_test[df_binary_col]"
   ]
  },
  {
   "cell_type": "code",
   "execution_count": 292,
   "metadata": {},
   "outputs": [
    {
     "name": "stdout",
     "output_type": "stream",
     "text": [
      "(55770, 4)\n",
      "(55770, 5)\n",
      "(55770, 6)\n",
      "(13943, 4)\n",
      "(13943, 5)\n",
      "(13943, 6)\n"
     ]
    }
   ],
   "source": [
    "df_train_binary = create_dummy_set(df_binary_col,df_train_binary)\n",
    "df_validation_binary = create_dummy_set(df_binary_col,df_validation_binary)\n",
    "df_train_binary = df_train_binary[df_train_binary.columns.drop(list(df_train_binary.filter(regex='MISSING')))]\n",
    "df_validation_binary = df_validation_binary[df_validation_binary.columns.drop(list(df_validation_binary.filter(regex='MISSING')))]"
   ]
  },
  {
   "cell_type": "code",
   "execution_count": 228,
   "metadata": {},
   "outputs": [
    {
     "name": "stdout",
     "output_type": "stream",
     "text": [
      "(30037, 4)\n",
      "(30037, 5)\n",
      "(30037, 6)\n"
     ]
    }
   ],
   "source": [
    "df_test_binary = create_dummy_set(df_binary_col,df_test_binary)\n",
    "df_test_binary = df_test_binary[df_test_binary.columns.drop(list(df_test_binary.filter(regex='MISSING')))]"
   ]
  },
  {
   "cell_type": "code",
   "execution_count": 229,
   "metadata": {},
   "outputs": [
    {
     "data": {
      "text/html": [
       "<div>\n",
       "<table border=\"1\" class=\"dataframe\">\n",
       "  <thead>\n",
       "    <tr style=\"text-align: right;\">\n",
       "      <th></th>\n",
       "      <th>Gender_Female</th>\n",
       "      <th>Gender_Male</th>\n",
       "      <th>Primary_Bank_Type_G</th>\n",
       "      <th>Primary_Bank_Type_P</th>\n",
       "      <th>Contacted_N</th>\n",
       "      <th>Contacted_Y</th>\n",
       "    </tr>\n",
       "  </thead>\n",
       "  <tbody>\n",
       "    <tr>\n",
       "      <th>0</th>\n",
       "      <td>0</td>\n",
       "      <td>1</td>\n",
       "      <td>0</td>\n",
       "      <td>1</td>\n",
       "      <td>0</td>\n",
       "      <td>1</td>\n",
       "    </tr>\n",
       "    <tr>\n",
       "      <th>1</th>\n",
       "      <td>0</td>\n",
       "      <td>1</td>\n",
       "      <td>0</td>\n",
       "      <td>1</td>\n",
       "      <td>0</td>\n",
       "      <td>1</td>\n",
       "    </tr>\n",
       "    <tr>\n",
       "      <th>2</th>\n",
       "      <td>1</td>\n",
       "      <td>0</td>\n",
       "      <td>0</td>\n",
       "      <td>1</td>\n",
       "      <td>1</td>\n",
       "      <td>0</td>\n",
       "    </tr>\n",
       "    <tr>\n",
       "      <th>3</th>\n",
       "      <td>1</td>\n",
       "      <td>0</td>\n",
       "      <td>0</td>\n",
       "      <td>1</td>\n",
       "      <td>1</td>\n",
       "      <td>0</td>\n",
       "    </tr>\n",
       "    <tr>\n",
       "      <th>4</th>\n",
       "      <td>0</td>\n",
       "      <td>1</td>\n",
       "      <td>0</td>\n",
       "      <td>1</td>\n",
       "      <td>0</td>\n",
       "      <td>1</td>\n",
       "    </tr>\n",
       "  </tbody>\n",
       "</table>\n",
       "</div>"
      ],
      "text/plain": [
       "   Gender_Female  Gender_Male  Primary_Bank_Type_G  Primary_Bank_Type_P  \\\n",
       "0              0            1                    0                    1   \n",
       "1              0            1                    0                    1   \n",
       "2              1            0                    0                    1   \n",
       "3              1            0                    0                    1   \n",
       "4              0            1                    0                    1   \n",
       "\n",
       "   Contacted_N  Contacted_Y  \n",
       "0            0            1  \n",
       "1            0            1  \n",
       "2            1            0  \n",
       "3            1            0  \n",
       "4            0            1  "
      ]
     },
     "execution_count": 229,
     "metadata": {},
     "output_type": "execute_result"
    }
   ],
   "source": [
    "df_test_binary.head(5)"
   ]
  },
  {
   "cell_type": "code",
   "execution_count": 230,
   "metadata": {},
   "outputs": [],
   "source": [
    "# df_train_binary.drop('EFT_SELF_TRANSFER_PrevQ1_N', axis=1, inplace=True)\n",
    "# df_validation_binary.drop('EFT_SELF_TRANSFER_PrevQ1_N', axis=1, inplace=True)\n",
    "# df_test_binary.drop('EFT_SELF_TRANSFER_PrevQ1_N', axis=1, inplace=True)"
   ]
  },
  {
   "cell_type": "code",
   "execution_count": 293,
   "metadata": {},
   "outputs": [
    {
     "name": "stdout",
     "output_type": "stream",
     "text": [
      "(55770, 49)\n"
     ]
    }
   ],
   "source": [
    "df_train = imputed_df_train_num.join(df_train_nominal).join(df_train_binary)\n",
    "print df_train.shape"
   ]
  },
  {
   "cell_type": "code",
   "execution_count": 294,
   "metadata": {},
   "outputs": [
    {
     "name": "stdout",
     "output_type": "stream",
     "text": [
      "(13943, 49)\n"
     ]
    }
   ],
   "source": [
    "df_validation = imputed_df_validation_num.join(df_validation_nominal).join(df_validation_binary)\n",
    "print df_validation.shape"
   ]
  },
  {
   "cell_type": "code",
   "execution_count": 233,
   "metadata": {},
   "outputs": [
    {
     "name": "stdout",
     "output_type": "stream",
     "text": [
      "(30037, 112)\n"
     ]
    }
   ],
   "source": [
    "df_test = imputed_df_test_num.join(df_test_nominal).join(df_test_binary)\n",
    "print df_test.shape"
   ]
  },
  {
   "cell_type": "code",
   "execution_count": 295,
   "metadata": {},
   "outputs": [
    {
     "name": "stdout",
     "output_type": "stream",
     "text": [
      "(55770, 49) (13943, 49) (30037, 20)\n"
     ]
    }
   ],
   "source": [
    "print df_train.shape, df_validation.shape, df_test.shape"
   ]
  },
  {
   "cell_type": "code",
   "execution_count": 301,
   "metadata": {},
   "outputs": [
    {
     "data": {
      "text/html": [
       "<div>\n",
       "<table border=\"1\" class=\"dataframe\">\n",
       "  <thead>\n",
       "    <tr style=\"text-align: right;\">\n",
       "      <th></th>\n",
       "      <th>Monthly_Income</th>\n",
       "      <th>Existing_EMI</th>\n",
       "      <th>Loan_Amount</th>\n",
       "      <th>Loan_Period</th>\n",
       "      <th>Interest_Rate</th>\n",
       "      <th>EMI</th>\n",
       "      <th>Age</th>\n",
       "      <th>City_Category_A</th>\n",
       "      <th>City_Category_B</th>\n",
       "      <th>City_Category_C</th>\n",
       "      <th>Employer_Category1_A</th>\n",
       "      <th>Employer_Category1_B</th>\n",
       "      <th>Employer_Category1_C</th>\n",
       "      <th>Employer_Category2_1.0</th>\n",
       "      <th>Employer_Category2_2.0</th>\n",
       "      <th>Employer_Category2_3.0</th>\n",
       "      <th>Employer_Category2_4.0</th>\n",
       "      <th>Employer_Category2_nan</th>\n",
       "      <th>Var1_0</th>\n",
       "      <th>Var1_10</th>\n",
       "      <th>Var1_2</th>\n",
       "      <th>Var1_4</th>\n",
       "      <th>Var1_7</th>\n",
       "      <th>City_Code_new_C10001</th>\n",
       "      <th>City_Code_new_C10002</th>\n",
       "      <th>City_Code_new_C10003</th>\n",
       "      <th>City_Code_new_C10004</th>\n",
       "      <th>City_Code_new_C10005</th>\n",
       "      <th>City_Code_new_other</th>\n",
       "      <th>Customer_Existing_Primary_Bank_Code_new_B001</th>\n",
       "      <th>Customer_Existing_Primary_Bank_Code_new_B002</th>\n",
       "      <th>Customer_Existing_Primary_Bank_Code_new_B003</th>\n",
       "      <th>Customer_Existing_Primary_Bank_Code_new_B004</th>\n",
       "      <th>Customer_Existing_Primary_Bank_Code_new_other</th>\n",
       "      <th>Source_new_S122</th>\n",
       "      <th>Source_new_S133</th>\n",
       "      <th>Source_new_S143</th>\n",
       "      <th>Source_new_S159</th>\n",
       "      <th>Source_new_other</th>\n",
       "      <th>Source_Category_new_B</th>\n",
       "      <th>Source_Category_new_C</th>\n",
       "      <th>Source_Category_new_G</th>\n",
       "      <th>Source_Category_new_other</th>\n",
       "      <th>Gender_Female</th>\n",
       "      <th>Gender_Male</th>\n",
       "      <th>Primary_Bank_Type_G</th>\n",
       "      <th>Primary_Bank_Type_P</th>\n",
       "      <th>Contacted_N</th>\n",
       "      <th>Contacted_Y</th>\n",
       "    </tr>\n",
       "  </thead>\n",
       "  <tbody>\n",
       "    <tr>\n",
       "      <th>49012</th>\n",
       "      <td>1900.0</td>\n",
       "      <td>700.0</td>\n",
       "      <td>700.0</td>\n",
       "      <td>700.0</td>\n",
       "      <td>700.0</td>\n",
       "      <td>700.0</td>\n",
       "      <td>24.0</td>\n",
       "      <td>0</td>\n",
       "      <td>0</td>\n",
       "      <td>1</td>\n",
       "      <td>0</td>\n",
       "      <td>1</td>\n",
       "      <td>0</td>\n",
       "      <td>0</td>\n",
       "      <td>0</td>\n",
       "      <td>1</td>\n",
       "      <td>0</td>\n",
       "      <td>0</td>\n",
       "      <td>1</td>\n",
       "      <td>0</td>\n",
       "      <td>0</td>\n",
       "      <td>0</td>\n",
       "      <td>0</td>\n",
       "      <td>0</td>\n",
       "      <td>0</td>\n",
       "      <td>0</td>\n",
       "      <td>0</td>\n",
       "      <td>0</td>\n",
       "      <td>1</td>\n",
       "      <td>0</td>\n",
       "      <td>1</td>\n",
       "      <td>0</td>\n",
       "      <td>0</td>\n",
       "      <td>0</td>\n",
       "      <td>1</td>\n",
       "      <td>0</td>\n",
       "      <td>0</td>\n",
       "      <td>0</td>\n",
       "      <td>0</td>\n",
       "      <td>0</td>\n",
       "      <td>0</td>\n",
       "      <td>1</td>\n",
       "      <td>0</td>\n",
       "      <td>1</td>\n",
       "      <td>0</td>\n",
       "      <td>0</td>\n",
       "      <td>1</td>\n",
       "      <td>1</td>\n",
       "      <td>0</td>\n",
       "    </tr>\n",
       "    <tr>\n",
       "      <th>52042</th>\n",
       "      <td>2000.0</td>\n",
       "      <td>470.0</td>\n",
       "      <td>10000.0</td>\n",
       "      <td>3.0</td>\n",
       "      <td>28.5</td>\n",
       "      <td>416.0</td>\n",
       "      <td>24.0</td>\n",
       "      <td>1</td>\n",
       "      <td>0</td>\n",
       "      <td>0</td>\n",
       "      <td>1</td>\n",
       "      <td>0</td>\n",
       "      <td>0</td>\n",
       "      <td>0</td>\n",
       "      <td>0</td>\n",
       "      <td>0</td>\n",
       "      <td>1</td>\n",
       "      <td>0</td>\n",
       "      <td>0</td>\n",
       "      <td>0</td>\n",
       "      <td>1</td>\n",
       "      <td>0</td>\n",
       "      <td>0</td>\n",
       "      <td>0</td>\n",
       "      <td>0</td>\n",
       "      <td>0</td>\n",
       "      <td>0</td>\n",
       "      <td>1</td>\n",
       "      <td>0</td>\n",
       "      <td>0</td>\n",
       "      <td>0</td>\n",
       "      <td>0</td>\n",
       "      <td>1</td>\n",
       "      <td>0</td>\n",
       "      <td>1</td>\n",
       "      <td>0</td>\n",
       "      <td>0</td>\n",
       "      <td>0</td>\n",
       "      <td>0</td>\n",
       "      <td>0</td>\n",
       "      <td>0</td>\n",
       "      <td>1</td>\n",
       "      <td>0</td>\n",
       "      <td>0</td>\n",
       "      <td>1</td>\n",
       "      <td>0</td>\n",
       "      <td>1</td>\n",
       "      <td>0</td>\n",
       "      <td>1</td>\n",
       "    </tr>\n",
       "    <tr>\n",
       "      <th>9588</th>\n",
       "      <td>5800.0</td>\n",
       "      <td>0.0</td>\n",
       "      <td>100000.0</td>\n",
       "      <td>5.0</td>\n",
       "      <td>17.5</td>\n",
       "      <td>2512.0</td>\n",
       "      <td>36.0</td>\n",
       "      <td>1</td>\n",
       "      <td>0</td>\n",
       "      <td>0</td>\n",
       "      <td>0</td>\n",
       "      <td>1</td>\n",
       "      <td>0</td>\n",
       "      <td>0</td>\n",
       "      <td>0</td>\n",
       "      <td>0</td>\n",
       "      <td>1</td>\n",
       "      <td>0</td>\n",
       "      <td>0</td>\n",
       "      <td>1</td>\n",
       "      <td>0</td>\n",
       "      <td>0</td>\n",
       "      <td>0</td>\n",
       "      <td>0</td>\n",
       "      <td>0</td>\n",
       "      <td>0</td>\n",
       "      <td>1</td>\n",
       "      <td>0</td>\n",
       "      <td>0</td>\n",
       "      <td>0</td>\n",
       "      <td>0</td>\n",
       "      <td>0</td>\n",
       "      <td>0</td>\n",
       "      <td>1</td>\n",
       "      <td>0</td>\n",
       "      <td>0</td>\n",
       "      <td>0</td>\n",
       "      <td>0</td>\n",
       "      <td>1</td>\n",
       "      <td>1</td>\n",
       "      <td>0</td>\n",
       "      <td>0</td>\n",
       "      <td>0</td>\n",
       "      <td>1</td>\n",
       "      <td>0</td>\n",
       "      <td>1</td>\n",
       "      <td>0</td>\n",
       "      <td>0</td>\n",
       "      <td>1</td>\n",
       "    </tr>\n",
       "    <tr>\n",
       "      <th>18631</th>\n",
       "      <td>2100.0</td>\n",
       "      <td>0.0</td>\n",
       "      <td>47000.0</td>\n",
       "      <td>5.0</td>\n",
       "      <td>27.0</td>\n",
       "      <td>27.0</td>\n",
       "      <td>27.0</td>\n",
       "      <td>1</td>\n",
       "      <td>0</td>\n",
       "      <td>0</td>\n",
       "      <td>1</td>\n",
       "      <td>0</td>\n",
       "      <td>0</td>\n",
       "      <td>0</td>\n",
       "      <td>0</td>\n",
       "      <td>0</td>\n",
       "      <td>1</td>\n",
       "      <td>0</td>\n",
       "      <td>0</td>\n",
       "      <td>0</td>\n",
       "      <td>0</td>\n",
       "      <td>1</td>\n",
       "      <td>0</td>\n",
       "      <td>1</td>\n",
       "      <td>0</td>\n",
       "      <td>0</td>\n",
       "      <td>0</td>\n",
       "      <td>0</td>\n",
       "      <td>0</td>\n",
       "      <td>0</td>\n",
       "      <td>0</td>\n",
       "      <td>0</td>\n",
       "      <td>0</td>\n",
       "      <td>1</td>\n",
       "      <td>0</td>\n",
       "      <td>0</td>\n",
       "      <td>0</td>\n",
       "      <td>0</td>\n",
       "      <td>1</td>\n",
       "      <td>1</td>\n",
       "      <td>0</td>\n",
       "      <td>0</td>\n",
       "      <td>0</td>\n",
       "      <td>0</td>\n",
       "      <td>1</td>\n",
       "      <td>1</td>\n",
       "      <td>0</td>\n",
       "      <td>0</td>\n",
       "      <td>1</td>\n",
       "    </tr>\n",
       "    <tr>\n",
       "      <th>45509</th>\n",
       "      <td>2500.0</td>\n",
       "      <td>0.0</td>\n",
       "      <td>20.0</td>\n",
       "      <td>20.0</td>\n",
       "      <td>20.0</td>\n",
       "      <td>20.0</td>\n",
       "      <td>20.0</td>\n",
       "      <td>0</td>\n",
       "      <td>1</td>\n",
       "      <td>0</td>\n",
       "      <td>1</td>\n",
       "      <td>0</td>\n",
       "      <td>0</td>\n",
       "      <td>0</td>\n",
       "      <td>0</td>\n",
       "      <td>0</td>\n",
       "      <td>0</td>\n",
       "      <td>1</td>\n",
       "      <td>1</td>\n",
       "      <td>0</td>\n",
       "      <td>0</td>\n",
       "      <td>0</td>\n",
       "      <td>0</td>\n",
       "      <td>0</td>\n",
       "      <td>0</td>\n",
       "      <td>0</td>\n",
       "      <td>0</td>\n",
       "      <td>0</td>\n",
       "      <td>1</td>\n",
       "      <td>0</td>\n",
       "      <td>0</td>\n",
       "      <td>0</td>\n",
       "      <td>0</td>\n",
       "      <td>1</td>\n",
       "      <td>1</td>\n",
       "      <td>0</td>\n",
       "      <td>0</td>\n",
       "      <td>0</td>\n",
       "      <td>0</td>\n",
       "      <td>0</td>\n",
       "      <td>0</td>\n",
       "      <td>1</td>\n",
       "      <td>0</td>\n",
       "      <td>0</td>\n",
       "      <td>1</td>\n",
       "      <td>0</td>\n",
       "      <td>0</td>\n",
       "      <td>0</td>\n",
       "      <td>1</td>\n",
       "    </tr>\n",
       "  </tbody>\n",
       "</table>\n",
       "</div>"
      ],
      "text/plain": [
       "       Monthly_Income  Existing_EMI  Loan_Amount  Loan_Period  Interest_Rate  \\\n",
       "49012          1900.0         700.0        700.0        700.0          700.0   \n",
       "52042          2000.0         470.0      10000.0          3.0           28.5   \n",
       "9588           5800.0           0.0     100000.0          5.0           17.5   \n",
       "18631          2100.0           0.0      47000.0          5.0           27.0   \n",
       "45509          2500.0           0.0         20.0         20.0           20.0   \n",
       "\n",
       "          EMI   Age  City_Category_A  City_Category_B  City_Category_C  \\\n",
       "49012   700.0  24.0                0                0                1   \n",
       "52042   416.0  24.0                1                0                0   \n",
       "9588   2512.0  36.0                1                0                0   \n",
       "18631    27.0  27.0                1                0                0   \n",
       "45509    20.0  20.0                0                1                0   \n",
       "\n",
       "       Employer_Category1_A  Employer_Category1_B  Employer_Category1_C  \\\n",
       "49012                     0                     1                     0   \n",
       "52042                     1                     0                     0   \n",
       "9588                      0                     1                     0   \n",
       "18631                     1                     0                     0   \n",
       "45509                     1                     0                     0   \n",
       "\n",
       "       Employer_Category2_1.0  Employer_Category2_2.0  Employer_Category2_3.0  \\\n",
       "49012                       0                       0                       1   \n",
       "52042                       0                       0                       0   \n",
       "9588                        0                       0                       0   \n",
       "18631                       0                       0                       0   \n",
       "45509                       0                       0                       0   \n",
       "\n",
       "       Employer_Category2_4.0  Employer_Category2_nan  Var1_0  Var1_10  \\\n",
       "49012                       0                       0       1        0   \n",
       "52042                       1                       0       0        0   \n",
       "9588                        1                       0       0        1   \n",
       "18631                       1                       0       0        0   \n",
       "45509                       0                       1       1        0   \n",
       "\n",
       "       Var1_2  Var1_4  Var1_7  City_Code_new_C10001  City_Code_new_C10002  \\\n",
       "49012       0       0       0                     0                     0   \n",
       "52042       1       0       0                     0                     0   \n",
       "9588        0       0       0                     0                     0   \n",
       "18631       0       1       0                     1                     0   \n",
       "45509       0       0       0                     0                     0   \n",
       "\n",
       "       City_Code_new_C10003  City_Code_new_C10004  City_Code_new_C10005  \\\n",
       "49012                     0                     0                     0   \n",
       "52042                     0                     0                     1   \n",
       "9588                      0                     1                     0   \n",
       "18631                     0                     0                     0   \n",
       "45509                     0                     0                     0   \n",
       "\n",
       "       City_Code_new_other  Customer_Existing_Primary_Bank_Code_new_B001  \\\n",
       "49012                    1                                             0   \n",
       "52042                    0                                             0   \n",
       "9588                     0                                             0   \n",
       "18631                    0                                             0   \n",
       "45509                    1                                             0   \n",
       "\n",
       "       Customer_Existing_Primary_Bank_Code_new_B002  \\\n",
       "49012                                             1   \n",
       "52042                                             0   \n",
       "9588                                              0   \n",
       "18631                                             0   \n",
       "45509                                             0   \n",
       "\n",
       "       Customer_Existing_Primary_Bank_Code_new_B003  \\\n",
       "49012                                             0   \n",
       "52042                                             0   \n",
       "9588                                              0   \n",
       "18631                                             0   \n",
       "45509                                             0   \n",
       "\n",
       "       Customer_Existing_Primary_Bank_Code_new_B004  \\\n",
       "49012                                             0   \n",
       "52042                                             1   \n",
       "9588                                              0   \n",
       "18631                                             0   \n",
       "45509                                             0   \n",
       "\n",
       "       Customer_Existing_Primary_Bank_Code_new_other  Source_new_S122  \\\n",
       "49012                                              0                1   \n",
       "52042                                              0                1   \n",
       "9588                                               1                0   \n",
       "18631                                              1                0   \n",
       "45509                                              1                1   \n",
       "\n",
       "       Source_new_S133  Source_new_S143  Source_new_S159  Source_new_other  \\\n",
       "49012                0                0                0                 0   \n",
       "52042                0                0                0                 0   \n",
       "9588                 0                0                0                 1   \n",
       "18631                0                0                0                 1   \n",
       "45509                0                0                0                 0   \n",
       "\n",
       "       Source_Category_new_B  Source_Category_new_C  Source_Category_new_G  \\\n",
       "49012                      0                      0                      1   \n",
       "52042                      0                      0                      1   \n",
       "9588                       1                      0                      0   \n",
       "18631                      1                      0                      0   \n",
       "45509                      0                      0                      1   \n",
       "\n",
       "       Source_Category_new_other  Gender_Female  Gender_Male  \\\n",
       "49012                          0              1            0   \n",
       "52042                          0              0            1   \n",
       "9588                           0              1            0   \n",
       "18631                          0              0            1   \n",
       "45509                          0              0            1   \n",
       "\n",
       "       Primary_Bank_Type_G  Primary_Bank_Type_P  Contacted_N  Contacted_Y  \n",
       "49012                    0                    1            1            0  \n",
       "52042                    0                    1            0            1  \n",
       "9588                     1                    0            0            1  \n",
       "18631                    1                    0            0            1  \n",
       "45509                    0                    0            0            1  "
      ]
     },
     "execution_count": 301,
     "metadata": {},
     "output_type": "execute_result"
    }
   ],
   "source": [
    "df_train.head(5)"
   ]
  },
  {
   "cell_type": "code",
   "execution_count": 296,
   "metadata": {},
   "outputs": [],
   "source": [
    "_xgb = xgb.XGBClassifier(objective='binary:logistic',max_depth=5,n_estimators=1000,colsample_bytree=.75,learning_rate=0.06).fit(df_train, train_Y,eval_metric='auc')\n",
    "train_pred = _xgb.predict_proba(df_train)\n",
    "val_pred = _xgb.predict_proba(df_validation)"
   ]
  },
  {
   "cell_type": "code",
   "execution_count": 297,
   "metadata": {},
   "outputs": [
    {
     "name": "stdout",
     "output_type": "stream",
     "text": [
      "0.199753390875\n",
      "0.0\n",
      "[[54959     0]\n",
      " [  649   162]]\n",
      "[[13729     5]\n",
      " [  209     0]]\n"
     ]
    }
   ],
   "source": [
    "train_pred_val = _xgb.predict(df_train)\n",
    "val_pred_val = _xgb.predict(df_validation)\n",
    "print recall_score(train_Y, train_pred_val)\n",
    "print recall_score(validation_Y, val_pred_val)\n",
    "print confusion_matrix(train_Y, train_pred_val)\n",
    "print confusion_matrix(validation_Y, val_pred_val)"
   ]
  },
  {
   "cell_type": "code",
   "execution_count": 298,
   "metadata": {},
   "outputs": [
    {
     "name": "stdout",
     "output_type": "stream",
     "text": [
      "[  1.78344652e-01   7.19837993e-02   1.03569083e-01   4.51609381e-02\n",
      "   9.10882428e-02   1.12163343e-01   9.63980705e-02   7.00678769e-03\n",
      "   8.48478172e-03   3.99605883e-03   1.62579380e-02   1.01817390e-02\n",
      "   1.24808410e-02   4.43398301e-03   2.79176701e-03   5.63827436e-03\n",
      "   6.62360433e-03   1.97065901e-03   5.96671784e-03   9.47011169e-03\n",
      "   2.13488075e-03   4.05079918e-03   6.45938236e-03   1.35209113e-02\n",
      "   1.03459600e-02   8.53952300e-03   4.54346417e-03   4.65294486e-03\n",
      "   1.26998033e-02   1.22618787e-02   1.26998033e-02   5.36457170e-03\n",
      "   4.76242602e-03   9.25114937e-03   1.31924674e-02   1.46157211e-02\n",
      "   4.92664753e-03   3.01072909e-03   4.81716683e-03   1.10028461e-02\n",
      "   5.85723668e-03   9.63433366e-03   2.73702643e-03   5.52879367e-03\n",
      "   1.75169692e-03   7.82789569e-03   8.70374404e-03   9.30588983e-04\n",
      "   1.64221594e-04]\n"
     ]
    },
    {
     "data": {
      "image/png": "[encoded data removed]",
      "text/plain": [
       "<matplotlib.figure.Figure at 0x1119d0750>"
      ]
     },
     "metadata": {},
     "output_type": "display_data"
    }
   ],
   "source": [
    "# feature importance\n",
    "print(_xgb.feature_importances_)\n",
    "# plot\n",
    "plt.bar(range(len(_xgb.feature_importances_)), _xgb.feature_importances_)\n",
    "plt.show()"
   ]
  },
  {
   "cell_type": "code",
   "execution_count": 300,
   "metadata": {},
   "outputs": [],
   "source": [
    "ax = plot_importance(_xgb, max_num_features=50, ax=ax)\n",
    "fig = ax.figure\n",
    "fig.set_size_inches(18.5, 10.5)\n",
    "fig.savefig('../Documents/JK/McKinsey2/feature_imp.png', dpi=1000)\n",
    "plt.show()"
   ]
  },
  {
   "cell_type": "code",
   "execution_count": 87,
   "metadata": {},
   "outputs": [],
   "source": [
    "test_pred = _xgb.predict_proba(df_test)"
   ]
  },
  {
   "cell_type": "code",
   "execution_count": 88,
   "metadata": {
    "collapsed": true
   },
   "outputs": [],
   "source": [
    "df_test_pred = pd.DataFrame(test_pred.tolist())"
   ]
  },
  {
   "cell_type": "code",
   "execution_count": 89,
   "metadata": {},
   "outputs": [],
   "source": [
    "predicted_result = Cust_id_test.join(df_test_pred)"
   ]
  },
  {
   "cell_type": "code",
   "execution_count": 90,
   "metadata": {},
   "outputs": [],
   "source": [
    "predicted_result = predicted_result.rename(columns = {0 : 'Non-Responders', 1 : 'Responders'})"
   ]
  },
  {
   "cell_type": "code",
   "execution_count": 91,
   "metadata": {},
   "outputs": [],
   "source": [
    "predicted_result = predicted_result.drop('Non-Responders', 1)"
   ]
  },
  {
   "cell_type": "code",
   "execution_count": 92,
   "metadata": {},
   "outputs": [
    {
     "data": {
      "text/plain": [
       "(200000, 2)"
      ]
     },
     "execution_count": 92,
     "metadata": {},
     "output_type": "execute_result"
    }
   ],
   "source": [
    "predicted_result.shape"
   ]
  },
  {
   "cell_type": "code",
   "execution_count": 93,
   "metadata": {},
   "outputs": [
    {
     "data": {
      "text/html": [
       "<div>\n",
       "<table border=\"1\" class=\"dataframe\">\n",
       "  <thead>\n",
       "    <tr style=\"text-align: right;\">\n",
       "      <th></th>\n",
       "      <th>UCIC_ID</th>\n",
       "      <th>Responders</th>\n",
       "    </tr>\n",
       "  </thead>\n",
       "  <tbody>\n",
       "    <tr>\n",
       "      <th>0</th>\n",
       "      <td>337734</td>\n",
       "      <td>0.306662</td>\n",
       "    </tr>\n",
       "    <tr>\n",
       "      <th>1</th>\n",
       "      <td>488166</td>\n",
       "      <td>0.026406</td>\n",
       "    </tr>\n",
       "    <tr>\n",
       "      <th>2</th>\n",
       "      <td>410785</td>\n",
       "      <td>0.058713</td>\n",
       "    </tr>\n",
       "    <tr>\n",
       "      <th>3</th>\n",
       "      <td>389145</td>\n",
       "      <td>0.137313</td>\n",
       "    </tr>\n",
       "    <tr>\n",
       "      <th>4</th>\n",
       "      <td>221090</td>\n",
       "      <td>0.178707</td>\n",
       "    </tr>\n",
       "    <tr>\n",
       "      <th>5</th>\n",
       "      <td>2651</td>\n",
       "      <td>0.015014</td>\n",
       "    </tr>\n",
       "    <tr>\n",
       "      <th>6</th>\n",
       "      <td>344310</td>\n",
       "      <td>0.046792</td>\n",
       "    </tr>\n",
       "    <tr>\n",
       "      <th>7</th>\n",
       "      <td>53881</td>\n",
       "      <td>0.023039</td>\n",
       "    </tr>\n",
       "    <tr>\n",
       "      <th>8</th>\n",
       "      <td>499665</td>\n",
       "      <td>0.062556</td>\n",
       "    </tr>\n",
       "    <tr>\n",
       "      <th>9</th>\n",
       "      <td>482927</td>\n",
       "      <td>0.049796</td>\n",
       "    </tr>\n",
       "  </tbody>\n",
       "</table>\n",
       "</div>"
      ],
      "text/plain": [
       "   UCIC_ID  Responders\n",
       "0   337734    0.306662\n",
       "1   488166    0.026406\n",
       "2   410785    0.058713\n",
       "3   389145    0.137313\n",
       "4   221090    0.178707\n",
       "5     2651    0.015014\n",
       "6   344310    0.046792\n",
       "7    53881    0.023039\n",
       "8   499665    0.062556\n",
       "9   482927    0.049796"
      ]
     },
     "execution_count": 93,
     "metadata": {},
     "output_type": "execute_result"
    }
   ],
   "source": [
    "predicted_result.head(10)"
   ]
  },
  {
   "cell_type": "code",
   "execution_count": 94,
   "metadata": {
    "collapsed": true
   },
   "outputs": [],
   "source": [
    "predicted_result.to_csv(\"Documents/JK/churn_prediction/BOG_SB_output.csv\",sep=',',index=False)"
   ]
  },
  {
   "cell_type": "code",
   "execution_count": null,
   "metadata": {
    "collapsed": true
   },
   "outputs": [],
   "source": []
  }
 ],
 "metadata": {
  "kernelspec": {
   "display_name": "Python 2",
   "language": "python",
   "name": "python2"
  },
  "language_info": {
   "codemirror_mode": {
    "name": "ipython",
    "version": 2
   },
   "file_extension": ".py",
   "mimetype": "text/x-python",
   "name": "python",
   "nbconvert_exporter": "python",
   "pygments_lexer": "ipython2",
   "version": "2.7.13"
  }
 },
 "nbformat": 4,
 "nbformat_minor": 2
}
