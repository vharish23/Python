{
 "cells": [
  {
   "cell_type": "code",
   "execution_count": 749,
   "metadata": {},
   "outputs": [],
   "source": [
    "#Importing Libraries\n",
    "import pandas as pd\n",
    "import numpy as np\n",
    "import matplotlib.pyplot as plt\n",
    "import seaborn as sns\n",
    "from scipy.stats import mode\n",
    "from sklearn.preprocessing import Imputer\n",
    "from sklearn.decomposition import PCA\n",
    "from sklearn.preprocessing import scale\n",
    "from sklearn.model_selection import train_test_split\n",
    "import xgboost as xgb\n",
    "from xgboost import XGBClassifier, plot_importance\n",
    "from sklearn.ensemble import RandomForestClassifier, AdaBoostClassifier, GradientBoostingClassifier\n",
    "from sklearn.metrics import confusion_matrix, accuracy_score, recall_score, precision_score\n",
    "%matplotlib inline"
   ]
  },
  {
   "cell_type": "code",
   "execution_count": 750,
   "metadata": {},
   "outputs": [],
   "source": [
    "#Reading single input file\n",
    "df_file = pd.read_csv(\"../Documents/JK/CKD/CKD_Train.csv\")"
   ]
  },
  {
   "cell_type": "code",
   "execution_count": 751,
   "metadata": {},
   "outputs": [],
   "source": [
    "#Separating known and unknown dataset\n",
    "df = df_file[np.isfinite(df_file['CKD'])]\n",
    "df_test = df_file[df_file.CKD.isnull()]"
   ]
  },
  {
   "cell_type": "code",
   "execution_count": 752,
   "metadata": {},
   "outputs": [],
   "source": [
    "#Cleaning junk values and reseting index\n",
    "df_test = df_test.dropna(how='all')\n",
    "df_test = df_test.reset_index(drop=True)"
   ]
  },
  {
   "cell_type": "code",
   "execution_count": 753,
   "metadata": {},
   "outputs": [],
   "source": [
    "#Back up for transformation - later on\n",
    "df_bkp = df\n",
    "df_test_bkp = df_test"
   ]
  },
  {
   "cell_type": "code",
   "execution_count": 754,
   "metadata": {},
   "outputs": [
    {
     "name": "stdout",
     "output_type": "stream",
     "text": [
      "(6000, 34) (2819, 34)\n"
     ]
    }
   ],
   "source": [
    "print df.shape, df_test.shape"
   ]
  },
  {
   "cell_type": "code",
   "execution_count": 755,
   "metadata": {},
   "outputs": [],
   "source": [
    "#Define a generic function using Pandas replace function\n",
    "def coding(col, codeDict):\n",
    "    colCoded = pd.DataFrame(col, copy=True)\n",
    "    for key, value in codeDict.items():\n",
    "        colCoded.replace(key, value, inplace=True)\n",
    "    return colCoded"
   ]
  },
  {
   "cell_type": "code",
   "execution_count": 756,
   "metadata": {},
   "outputs": [],
   "source": [
    "#Remove ID fields and separate Target\n",
    "df_Y = df['CKD']\n",
    "df = df.drop(['CKD','ID'], axis =1)"
   ]
  },
  {
   "cell_type": "code",
   "execution_count": 757,
   "metadata": {},
   "outputs": [
    {
     "name": "stdout",
     "output_type": "stream",
     "text": [
      "(6000, 32) (6000,)\n"
     ]
    }
   ],
   "source": [
    "print df.shape, df_Y.shape"
   ]
  },
  {
   "cell_type": "code",
   "execution_count": 758,
   "metadata": {},
   "outputs": [
    {
     "name": "stdout",
     "output_type": "stream",
     "text": [
      "(6000, 30) (6000, 2)\n"
     ]
    }
   ],
   "source": [
    "#Filter columns into numerical & categorical\n",
    "df_num = df.select_dtypes(include=[np.number]) #Numbers which are categories must be verified\n",
    "df_cat = df.select_dtypes(exclude=[np.number])\n",
    "print df_num.shape, df_cat.shape"
   ]
  },
  {
   "cell_type": "code",
   "execution_count": 759,
   "metadata": {},
   "outputs": [],
   "source": [
    "#Function to check % of missing values\n",
    "def missing_values_table(df): \n",
    "    mis_val = df.isnull().sum()\n",
    "    mis_val_percent = 100 * df.isnull().sum()/len(df)\n",
    "    mis_val_table = pd.concat([mis_val, mis_val_percent], axis=1)\n",
    "    mis_val_table_ren_columns = mis_val_table.rename(columns = {0 : 'Missing Values', 1 : '% of Total Values'})\n",
    "    return mis_val_table_ren_columns"
   ]
  },
  {
   "cell_type": "code",
   "execution_count": 760,
   "metadata": {},
   "outputs": [],
   "source": [
    "#Function to eliminate variables with more than 99% missing values - need function 'missing_values_table'\n",
    "def non_missing_col(df):\n",
    "    df_col = missing_values_table(df) #Calc missing values for each column\n",
    "    df_col = df_col.loc[df_col['% of Total Values'] <= 99] #Filter dataframe with less missing values\n",
    "    df_col = df_col.index.values.tolist() #Convert dataframe to columns list\n",
    "    return df_col"
   ]
  },
  {
   "cell_type": "code",
   "execution_count": 761,
   "metadata": {},
   "outputs": [],
   "source": [
    "#Eliminate Categorical Variables with more than 99% missing values\n",
    "df_cat_col = missing_values_table(df_cat)\n",
    "df_elim_col = df_cat_col.loc[df_cat_col['% of Total Values'] > 99]\n",
    "df_elim_col = df_elim_col.index.values.tolist()\n",
    "df_elim = df_cat[df_elim_col]"
   ]
  },
  {
   "cell_type": "code",
   "execution_count": 762,
   "metadata": {},
   "outputs": [
    {
     "name": "stdout",
     "output_type": "stream",
     "text": [
      "(6000, 1)\n"
     ]
    }
   ],
   "source": [
    "#Verify whether eliminated categorical fields have 100% correlation\n",
    "df_elim = df_elim.join(df_Y)\n",
    "print df_elim.shape"
   ]
  },
  {
   "cell_type": "code",
   "execution_count": 763,
   "metadata": {},
   "outputs": [
    {
     "name": "stdout",
     "output_type": "stream",
     "text": [
      "(6000, 30) (6000, 2)\n"
     ]
    }
   ],
   "source": [
    "#Numerical variables with LT 99% missing values\n",
    "df_num_col = non_missing_col(df_num)\n",
    "df_num = df_num[df_num_col]\n",
    "#Categorical variables with LT 99% missing values\n",
    "df_cat_col = non_missing_col(df_cat)\n",
    "df_cat = df_cat[df_cat_col]\n",
    "print df_num.shape, df_cat.shape"
   ]
  },
  {
   "cell_type": "code",
   "execution_count": 764,
   "metadata": {},
   "outputs": [],
   "source": [
    "#Find Count of distinct values in categorical fields\n",
    "count = df_cat.apply(pd.Series.nunique)\n",
    "dstnct_cnt_col = pd.DataFrame(count, columns=['count'])\n",
    "# dstnct_cnt_col"
   ]
  },
  {
   "cell_type": "code",
   "execution_count": 765,
   "metadata": {},
   "outputs": [],
   "source": [
    "#Binary Variables(1 or 2)\n",
    "df_binary_col = dstnct_cnt_col.loc[dstnct_cnt_col['count'] <=2]\n",
    "df_binary_col = df_binary_col.index.values.tolist()\n",
    "df_binary = df_cat[df_binary_col]\n",
    "#Nominal Variables(2+)\n",
    "df_nominal_col = dstnct_cnt_col.loc[dstnct_cnt_col['count'] >2]\n",
    "df_nominal_col = df_nominal_col.index.values.tolist()\n",
    "df_nominal = df_cat[df_nominal_col]"
   ]
  },
  {
   "cell_type": "code",
   "execution_count": 766,
   "metadata": {},
   "outputs": [],
   "source": [
    "#EDA plots - 1 \n",
    "#Univariate analysis - Checking distribution of binary variables\n",
    "for i in df_binary_col:\n",
    "    fig, ax = plt.subplots()\n",
    "    fig.set_size_inches(12, 9)\n",
    "    sns.countplot(x=i, data=df_cat);\n",
    "    plt.show()"
   ]
  },
  {
   "cell_type": "code",
   "execution_count": 767,
   "metadata": {},
   "outputs": [
    {
     "data": {
      "image/png": "[encoded data removed]",
      "text/plain": [
       "<matplotlib.figure.Figure at 0x11f92edd0>"
      ]
     },
     "metadata": {},
     "output_type": "display_data"
    },
    {
     "data": {
      "image/png": "[encoded data removed]",
      "text/plain": [
       "<matplotlib.figure.Figure at 0x11ebd42d0>"
      ]
     },
     "metadata": {},
     "output_type": "display_data"
    }
   ],
   "source": [
    "#EDA plots - 2 \n",
    "#Univariate analysis - Checking distribution of nominal variables\n",
    "for i in df_nominal_col:\n",
    "    fig, ax = plt.subplots()\n",
    "    fig.set_size_inches(12, 9)\n",
    "    sns.countplot(x=i, data=df_cat);\n",
    "    plt.show()"
   ]
  },
  {
   "cell_type": "code",
   "execution_count": 768,
   "metadata": {},
   "outputs": [
    {
     "data": {
      "image/png": "[encoded data removed]",
      "text/plain": [
       "<matplotlib.figure.Figure at 0x11f92e550>"
      ]
     },
     "metadata": {},
     "output_type": "display_data"
    },
    {
     "data": {
      "image/png": "[encoded data removed]",
      "text/plain": [
       "<matplotlib.figure.Figure at 0x11c923c90>"
      ]
     },
     "metadata": {},
     "output_type": "display_data"
    },
    {
     "data": {
      "image/png": "[encoded data removed]",
      "text/plain": [
       "<matplotlib.figure.Figure at 0x11f551b50>"
      ]
     },
     "metadata": {},
     "output_type": "display_data"
    },
    {
     "data": {
      "image/png": "[encoded data removed]",
      "text/plain": [
       "<matplotlib.figure.Figure at 0x11c6f49d0>"
      ]
     },
     "metadata": {},
     "output_type": "display_data"
    },
    {
     "data": {
      "image/png": "[encoded data removed]",
      "text/plain": [
       "<matplotlib.figure.Figure at 0x11dce5e10>"
      ]
     },
     "metadata": {},
     "output_type": "display_data"
    },
    {
     "data": {
      "image/png": "[encoded data removed]",
      "text/plain": [
       "<matplotlib.figure.Figure at 0x11eea7610>"
      ]
     },
     "metadata": {},
     "output_type": "display_data"
    },
    {
     "data": {
      "image/png": "[encoded data removed]",
      "text/plain": [
       "<matplotlib.figure.Figure at 0x11f239a90>"
      ]
     },
     "metadata": {},
     "output_type": "display_data"
    },
    {
     "data": {
      "image/png": "[encoded data removed]",
      "text/plain": [
       "<matplotlib.figure.Figure at 0x11ee97a90>"
      ]
     },
     "metadata": {},
     "output_type": "display_data"
    },
    {
     "data": {
      "image/png": "[encoded data removed]",
      "text/plain": [
       "<matplotlib.figure.Figure at 0x11f692850>"
      ]
     },
     "metadata": {},
     "output_type": "display_data"
    },
    {
     "data": {
      "image/png": "[encoded data removed]",
      "text/plain": [
       "<matplotlib.figure.Figure at 0x11f5c5390>"
      ]
     },
     "metadata": {},
     "output_type": "display_data"
    },
    {
     "data": {
      "image/png": "[encoded data removed]",
      "text/plain": [
       "<matplotlib.figure.Figure at 0x11f286850>"
      ]
     },
     "metadata": {},
     "output_type": "display_data"
    },
    {
     "data": {
      "image/png": "[encoded data removed]",
      "text/plain": [
       "<matplotlib.figure.Figure at 0x11f1e07d0>"
      ]
     },
     "metadata": {},
     "output_type": "display_data"
    },
    {
     "data": {
      "image/png": "[encoded data removed]",
      "text/plain": [
       "<matplotlib.figure.Figure at 0x11effd8d0>"
      ]
     },
     "metadata": {},
     "output_type": "display_data"
    },
    {
     "data": {
      "image/png": "[encoded data removed]",
      "text/plain": [
       "<matplotlib.figure.Figure at 0x11ebd4690>"
      ]
     },
     "metadata": {},
     "output_type": "display_data"
    },
    {
     "data": {
      "image/png": "[encoded data removed]",
      "text/plain": [
       "<matplotlib.figure.Figure at 0x11eb80810>"
      ]
     },
     "metadata": {},
     "output_type": "display_data"
    },
    {
     "data": {
      "image/png": "[encoded data removed]",
      "text/plain": [
       "<matplotlib.figure.Figure at 0x11d230e90>"
      ]
     },
     "metadata": {},
     "output_type": "display_data"
    },
    {
     "data": {
      "image/png": "[encoded data removed]",
      "text/plain": [
       "<matplotlib.figure.Figure at 0x11dd5ae10>"
      ]
     },
     "metadata": {},
     "output_type": "display_data"
    },
    {
     "data": {
      "image/png": "[encoded data removed]",
      "text/plain": [
       "<matplotlib.figure.Figure at 0x11f1e0ad0>"
      ]
     },
     "metadata": {},
     "output_type": "display_data"
    },
    {
     "data": {
      "image/png": "[encoded data removed]",
      "text/plain": [
       "<matplotlib.figure.Figure at 0x11e02d3d0>"
      ]
     },
     "metadata": {},
     "output_type": "display_data"
    },
    {
     "data": {
      "image/png": "[encoded data removed]",
      "text/plain": [
       "<matplotlib.figure.Figure at 0x11e15da90>"
      ]
     },
     "metadata": {},
     "output_type": "display_data"
    },
    {
     "data": {
      "image/png": "[encoded data removed]",
      "text/plain": [
       "<matplotlib.figure.Figure at 0x11f5d6b10>"
      ]
     },
     "metadata": {},
     "output_type": "display_data"
    },
    {
     "data": {
      "image/png": "[encoded data removed]",
      "text/plain": [
       "<matplotlib.figure.Figure at 0x11f986990>"
      ]
     },
     "metadata": {},
     "output_type": "display_data"
    },
    {
     "data": {
      "image/png": "[encoded data removed]",
      "text/plain": [
       "<matplotlib.figure.Figure at 0x119477b90>"
      ]
     },
     "metadata": {},
     "output_type": "display_data"
    },
    {
     "data": {
      "image/png": "[encoded data removed]",
      "text/plain": [
       "<matplotlib.figure.Figure at 0x110377310>"
      ]
     },
     "metadata": {},
     "output_type": "display_data"
    },
    {
     "data": {
      "image/png": "[encoded data removed]",
      "text/plain": [
       "<matplotlib.figure.Figure at 0x11e4b2f10>"
      ]
     },
     "metadata": {},
     "output_type": "display_data"
    },
    {
     "data": {
      "image/png": "[encoded data removed]",
      "text/plain": [
       "<matplotlib.figure.Figure at 0x11e0b59d0>"
      ]
     },
     "metadata": {},
     "output_type": "display_data"
    },
    {
     "data": {
      "image/png": "[encoded data removed]",
      "text/plain": [
       "<matplotlib.figure.Figure at 0x11e06e890>"
      ]
     },
     "metadata": {},
     "output_type": "display_data"
    },
    {
     "data": {
      "image/png": "[encoded data removed]",
      "text/plain": [
       "<matplotlib.figure.Figure at 0x11c8f7910>"
      ]
     },
     "metadata": {},
     "output_type": "display_data"
    },
    {
     "data": {
      "image/png": "[encoded data removed]",
      "text/plain": [
       "<matplotlib.figure.Figure at 0x11f913750>"
      ]
     },
     "metadata": {},
     "output_type": "display_data"
    },
    {
     "data": {
      "image/png": "[encoded data removed]",
      "text/plain": [
       "<matplotlib.figure.Figure at 0x11eecc090>"
      ]
     },
     "metadata": {},
     "output_type": "display_data"
    }
   ],
   "source": [
    "#EDA plots - 3\n",
    "#Univariate analysis - Checking distribution of numerical variables using histogram\n",
    "for i in df_num_col:\n",
    "    df_num.hist(column=i, bins = 100)\n",
    "    plt.show()"
   ]
  },
  {
   "cell_type": "code",
   "execution_count": 769,
   "metadata": {},
   "outputs": [],
   "source": [
    "df = df_bkp"
   ]
  },
  {
   "cell_type": "code",
   "execution_count": 770,
   "metadata": {},
   "outputs": [
    {
     "data": {
      "image/png": "[encoded data removed]",
      "text/plain": [
       "<matplotlib.figure.Figure at 0x11ebf4410>"
      ]
     },
     "metadata": {},
     "output_type": "display_data"
    }
   ],
   "source": [
    "#EDA plots - 4\n",
    "#Target distribution\n",
    "df_Y_col = df_Y.index.values.tolist()\n",
    "fig, ax = plt.subplots()\n",
    "fig.set_size_inches(12, 9)\n",
    "sns.countplot(x = df_Y_col, data=df_Y);\n",
    "plt.show()"
   ]
  },
  {
   "cell_type": "code",
   "execution_count": 771,
   "metadata": {},
   "outputs": [],
   "source": [
    "#EDA - 5 Bi-variate analysis on binary variables\n",
    "for i in df_binary_col:\n",
    "    fig, ax = plt.subplots()\n",
    "    fig.set_size_inches(12, 9)\n",
    "    sns.countplot(x=i, data=df, hue='CKD')\n",
    "    plt.show()"
   ]
  },
  {
   "cell_type": "code",
   "execution_count": 772,
   "metadata": {},
   "outputs": [
    {
     "data": {
      "image/png": "[encoded data removed]",
      "text/plain": [
       "<matplotlib.figure.Figure at 0x11e4a5990>"
      ]
     },
     "metadata": {},
     "output_type": "display_data"
    },
    {
     "data": {
      "image/png": "[encoded data removed]",
      "text/plain": [
       "<matplotlib.figure.Figure at 0x110377e90>"
      ]
     },
     "metadata": {},
     "output_type": "display_data"
    }
   ],
   "source": [
    "#EDA - 6 Bi-variate analysis on nominal variables\n",
    "for i in df_nominal_col:\n",
    "    fig, ax = plt.subplots()\n",
    "    fig.set_size_inches(12, 9)\n",
    "    sns.countplot(x=i, data=df, hue='CKD')\n",
    "    plt.show()"
   ]
  },
  {
   "cell_type": "code",
   "execution_count": 773,
   "metadata": {},
   "outputs": [
    {
     "data": {
      "text/html": [
       "<div>\n",
       "<table border=\"1\" class=\"dataframe\">\n",
       "  <thead>\n",
       "    <tr style=\"text-align: right;\">\n",
       "      <th></th>\n",
       "      <th>CareSource</th>\n",
       "      <th>ID</th>\n",
       "      <th>Age</th>\n",
       "      <th>Female</th>\n",
       "      <th>Racegrp</th>\n",
       "      <th>Educ</th>\n",
       "      <th>Unmarried</th>\n",
       "      <th>Income</th>\n",
       "      <th>Insured</th>\n",
       "      <th>Weight</th>\n",
       "      <th>...</th>\n",
       "      <th>Hypertension</th>\n",
       "      <th>Fam Hypertension</th>\n",
       "      <th>Diabetes</th>\n",
       "      <th>Fam Diabetes</th>\n",
       "      <th>Stroke</th>\n",
       "      <th>CVD</th>\n",
       "      <th>Fam CVD</th>\n",
       "      <th>CHF</th>\n",
       "      <th>Anemia</th>\n",
       "      <th>CKD</th>\n",
       "    </tr>\n",
       "  </thead>\n",
       "  <tbody>\n",
       "    <tr>\n",
       "      <th>0</th>\n",
       "      <td>DrHMO</td>\n",
       "      <td>3482</td>\n",
       "      <td>3482</td>\n",
       "      <td>3482</td>\n",
       "      <td>3482</td>\n",
       "      <td>3471</td>\n",
       "      <td>3317</td>\n",
       "      <td>3042</td>\n",
       "      <td>3441</td>\n",
       "      <td>3401</td>\n",
       "      <td>...</td>\n",
       "      <td>3478</td>\n",
       "      <td>3482</td>\n",
       "      <td>3482</td>\n",
       "      <td>3482</td>\n",
       "      <td>3480</td>\n",
       "      <td>3477</td>\n",
       "      <td>3305</td>\n",
       "      <td>3464</td>\n",
       "      <td>3481</td>\n",
       "      <td>3482</td>\n",
       "    </tr>\n",
       "    <tr>\n",
       "      <th>1</th>\n",
       "      <td>clinic</td>\n",
       "      <td>1269</td>\n",
       "      <td>1269</td>\n",
       "      <td>1269</td>\n",
       "      <td>1269</td>\n",
       "      <td>1267</td>\n",
       "      <td>1198</td>\n",
       "      <td>1119</td>\n",
       "      <td>1259</td>\n",
       "      <td>1241</td>\n",
       "      <td>...</td>\n",
       "      <td>1258</td>\n",
       "      <td>1269</td>\n",
       "      <td>1269</td>\n",
       "      <td>1269</td>\n",
       "      <td>1267</td>\n",
       "      <td>1263</td>\n",
       "      <td>1222</td>\n",
       "      <td>1264</td>\n",
       "      <td>1267</td>\n",
       "      <td>1269</td>\n",
       "    </tr>\n",
       "    <tr>\n",
       "      <th>2</th>\n",
       "      <td>noplace</td>\n",
       "      <td>925</td>\n",
       "      <td>925</td>\n",
       "      <td>925</td>\n",
       "      <td>925</td>\n",
       "      <td>923</td>\n",
       "      <td>880</td>\n",
       "      <td>782</td>\n",
       "      <td>907</td>\n",
       "      <td>912</td>\n",
       "      <td>...</td>\n",
       "      <td>891</td>\n",
       "      <td>925</td>\n",
       "      <td>925</td>\n",
       "      <td>925</td>\n",
       "      <td>925</td>\n",
       "      <td>925</td>\n",
       "      <td>884</td>\n",
       "      <td>924</td>\n",
       "      <td>925</td>\n",
       "      <td>925</td>\n",
       "    </tr>\n",
       "    <tr>\n",
       "      <th>3</th>\n",
       "      <td>other</td>\n",
       "      <td>324</td>\n",
       "      <td>324</td>\n",
       "      <td>324</td>\n",
       "      <td>324</td>\n",
       "      <td>324</td>\n",
       "      <td>304</td>\n",
       "      <td>265</td>\n",
       "      <td>315</td>\n",
       "      <td>313</td>\n",
       "      <td>...</td>\n",
       "      <td>320</td>\n",
       "      <td>324</td>\n",
       "      <td>323</td>\n",
       "      <td>324</td>\n",
       "      <td>322</td>\n",
       "      <td>322</td>\n",
       "      <td>306</td>\n",
       "      <td>322</td>\n",
       "      <td>324</td>\n",
       "      <td>324</td>\n",
       "    </tr>\n",
       "  </tbody>\n",
       "</table>\n",
       "<p>4 rows × 34 columns</p>\n",
       "</div>"
      ],
      "text/plain": [
       "  CareSource    ID   Age  Female  Racegrp  Educ  Unmarried  Income  Insured  \\\n",
       "0      DrHMO  3482  3482    3482     3482  3471       3317    3042     3441   \n",
       "1     clinic  1269  1269    1269     1269  1267       1198    1119     1259   \n",
       "2    noplace   925   925     925      925   923        880     782      907   \n",
       "3      other   324   324     324      324   324        304     265      315   \n",
       "\n",
       "   Weight  ...   Hypertension  Fam Hypertension  Diabetes  Fam Diabetes  \\\n",
       "0    3401  ...           3478              3482      3482          3482   \n",
       "1    1241  ...           1258              1269      1269          1269   \n",
       "2     912  ...            891               925       925           925   \n",
       "3     313  ...            320               324       323           324   \n",
       "\n",
       "   Stroke   CVD  Fam CVD   CHF  Anemia   CKD  \n",
       "0    3480  3477     3305  3464    3481  3482  \n",
       "1    1267  1263     1222  1264    1267  1269  \n",
       "2     925   925      884   924     925   925  \n",
       "3     322   322      306   322     324   324  \n",
       "\n",
       "[4 rows x 34 columns]"
      ]
     },
     "execution_count": 773,
     "metadata": {},
     "output_type": "execute_result"
    }
   ],
   "source": [
    "df.groupby('CareSource').count().reset_index()"
   ]
  },
  {
   "cell_type": "code",
   "execution_count": 774,
   "metadata": {},
   "outputs": [
    {
     "data": {
      "text/html": [
       "<div>\n",
       "<table border=\"1\" class=\"dataframe\">\n",
       "  <thead>\n",
       "    <tr style=\"text-align: right;\">\n",
       "      <th></th>\n",
       "      <th>CareSource</th>\n",
       "      <th>ID</th>\n",
       "      <th>Age</th>\n",
       "      <th>Female</th>\n",
       "      <th>Racegrp</th>\n",
       "      <th>Educ</th>\n",
       "      <th>Unmarried</th>\n",
       "      <th>Income</th>\n",
       "      <th>Insured</th>\n",
       "      <th>Weight</th>\n",
       "      <th>...</th>\n",
       "      <th>Hypertension</th>\n",
       "      <th>Fam Hypertension</th>\n",
       "      <th>Diabetes</th>\n",
       "      <th>Fam Diabetes</th>\n",
       "      <th>Stroke</th>\n",
       "      <th>CVD</th>\n",
       "      <th>Fam CVD</th>\n",
       "      <th>CHF</th>\n",
       "      <th>Anemia</th>\n",
       "      <th>CKD</th>\n",
       "    </tr>\n",
       "  </thead>\n",
       "  <tbody>\n",
       "    <tr>\n",
       "      <th>0</th>\n",
       "      <td>DrHMO</td>\n",
       "      <td>1641</td>\n",
       "      <td>1641</td>\n",
       "      <td>1641</td>\n",
       "      <td>1641</td>\n",
       "      <td>1640</td>\n",
       "      <td>1553</td>\n",
       "      <td>1439</td>\n",
       "      <td>1622</td>\n",
       "      <td>1600</td>\n",
       "      <td>...</td>\n",
       "      <td>1638</td>\n",
       "      <td>1641</td>\n",
       "      <td>1641</td>\n",
       "      <td>1641</td>\n",
       "      <td>1638</td>\n",
       "      <td>1636</td>\n",
       "      <td>1564</td>\n",
       "      <td>1637</td>\n",
       "      <td>1639</td>\n",
       "      <td>0</td>\n",
       "    </tr>\n",
       "    <tr>\n",
       "      <th>1</th>\n",
       "      <td>clinic</td>\n",
       "      <td>604</td>\n",
       "      <td>604</td>\n",
       "      <td>604</td>\n",
       "      <td>604</td>\n",
       "      <td>602</td>\n",
       "      <td>571</td>\n",
       "      <td>521</td>\n",
       "      <td>598</td>\n",
       "      <td>594</td>\n",
       "      <td>...</td>\n",
       "      <td>601</td>\n",
       "      <td>604</td>\n",
       "      <td>604</td>\n",
       "      <td>604</td>\n",
       "      <td>603</td>\n",
       "      <td>600</td>\n",
       "      <td>569</td>\n",
       "      <td>599</td>\n",
       "      <td>604</td>\n",
       "      <td>0</td>\n",
       "    </tr>\n",
       "    <tr>\n",
       "      <th>2</th>\n",
       "      <td>noplace</td>\n",
       "      <td>428</td>\n",
       "      <td>428</td>\n",
       "      <td>428</td>\n",
       "      <td>428</td>\n",
       "      <td>426</td>\n",
       "      <td>404</td>\n",
       "      <td>360</td>\n",
       "      <td>421</td>\n",
       "      <td>421</td>\n",
       "      <td>...</td>\n",
       "      <td>407</td>\n",
       "      <td>428</td>\n",
       "      <td>428</td>\n",
       "      <td>428</td>\n",
       "      <td>428</td>\n",
       "      <td>428</td>\n",
       "      <td>414</td>\n",
       "      <td>428</td>\n",
       "      <td>427</td>\n",
       "      <td>0</td>\n",
       "    </tr>\n",
       "    <tr>\n",
       "      <th>3</th>\n",
       "      <td>other</td>\n",
       "      <td>146</td>\n",
       "      <td>146</td>\n",
       "      <td>146</td>\n",
       "      <td>146</td>\n",
       "      <td>146</td>\n",
       "      <td>140</td>\n",
       "      <td>125</td>\n",
       "      <td>143</td>\n",
       "      <td>143</td>\n",
       "      <td>...</td>\n",
       "      <td>146</td>\n",
       "      <td>146</td>\n",
       "      <td>145</td>\n",
       "      <td>146</td>\n",
       "      <td>145</td>\n",
       "      <td>145</td>\n",
       "      <td>136</td>\n",
       "      <td>145</td>\n",
       "      <td>146</td>\n",
       "      <td>0</td>\n",
       "    </tr>\n",
       "  </tbody>\n",
       "</table>\n",
       "<p>4 rows × 34 columns</p>\n",
       "</div>"
      ],
      "text/plain": [
       "  CareSource    ID   Age  Female  Racegrp  Educ  Unmarried  Income  Insured  \\\n",
       "0      DrHMO  1641  1641    1641     1641  1640       1553    1439     1622   \n",
       "1     clinic   604   604     604      604   602        571     521      598   \n",
       "2    noplace   428   428     428      428   426        404     360      421   \n",
       "3      other   146   146     146      146   146        140     125      143   \n",
       "\n",
       "   Weight ...   Hypertension  Fam Hypertension  Diabetes  Fam Diabetes  \\\n",
       "0    1600 ...           1638              1641      1641          1641   \n",
       "1     594 ...            601               604       604           604   \n",
       "2     421 ...            407               428       428           428   \n",
       "3     143 ...            146               146       145           146   \n",
       "\n",
       "   Stroke   CVD  Fam CVD   CHF  Anemia  CKD  \n",
       "0    1638  1636     1564  1637    1639    0  \n",
       "1     603   600      569   599     604    0  \n",
       "2     428   428      414   428     427    0  \n",
       "3     145   145      136   145     146    0  \n",
       "\n",
       "[4 rows x 34 columns]"
      ]
     },
     "execution_count": 774,
     "metadata": {},
     "output_type": "execute_result"
    }
   ],
   "source": [
    "df_test.groupby('CareSource').count().reset_index()"
   ]
  },
  {
   "cell_type": "code",
   "execution_count": 775,
   "metadata": {},
   "outputs": [
    {
     "data": {
      "text/plain": [
       "array(['other', 'noplace', 'DrHMO', 'clinic'], dtype=object)"
      ]
     },
     "execution_count": 775,
     "metadata": {},
     "output_type": "execute_result"
    }
   ],
   "source": [
    "df.CareSource.unique()"
   ]
  },
  {
   "cell_type": "code",
   "execution_count": 776,
   "metadata": {},
   "outputs": [
    {
     "data": {
      "text/html": [
       "<div>\n",
       "<table border=\"1\" class=\"dataframe\">\n",
       "  <thead>\n",
       "    <tr style=\"text-align: right;\">\n",
       "      <th></th>\n",
       "      <th>ID</th>\n",
       "      <th>Age</th>\n",
       "      <th>Female</th>\n",
       "      <th>Racegrp</th>\n",
       "      <th>Educ</th>\n",
       "      <th>Unmarried</th>\n",
       "      <th>Income</th>\n",
       "      <th>CareSource</th>\n",
       "      <th>Insured</th>\n",
       "      <th>Weight</th>\n",
       "      <th>...</th>\n",
       "      <th>Hypertension</th>\n",
       "      <th>Fam Hypertension</th>\n",
       "      <th>Diabetes</th>\n",
       "      <th>Fam Diabetes</th>\n",
       "      <th>Stroke</th>\n",
       "      <th>CVD</th>\n",
       "      <th>Fam CVD</th>\n",
       "      <th>CHF</th>\n",
       "      <th>Anemia</th>\n",
       "      <th>CKD</th>\n",
       "    </tr>\n",
       "  </thead>\n",
       "  <tbody>\n",
       "  </tbody>\n",
       "</table>\n",
       "<p>0 rows × 34 columns</p>\n",
       "</div>"
      ],
      "text/plain": [
       "Empty DataFrame\n",
       "Columns: [ID, Age, Female, Racegrp, Educ, Unmarried, Income, CareSource, Insured, Weight, Height, BMI, Obese, Waist, SBP, DBP, HDL, LDL, Total Chol, Dyslipidemia, PVD, Activity, PoorVision, Smoker, Hypertension, Fam Hypertension, Diabetes, Fam Diabetes, Stroke, CVD, Fam CVD, CHF, Anemia, CKD]\n",
       "Index: []\n",
       "\n",
       "[0 rows x 34 columns]"
      ]
     },
     "execution_count": 776,
     "metadata": {},
     "output_type": "execute_result"
    }
   ],
   "source": [
    "df.loc[~df['CareSource'].isin(['other','noplace','DrHMO','clinic'])]"
   ]
  },
  {
   "cell_type": "code",
   "execution_count": 777,
   "metadata": {},
   "outputs": [],
   "source": [
    "df = df_bkp"
   ]
  },
  {
   "cell_type": "code",
   "execution_count": 778,
   "metadata": {},
   "outputs": [],
   "source": [
    "df_test = df_test_bkp"
   ]
  },
  {
   "cell_type": "code",
   "execution_count": 779,
   "metadata": {},
   "outputs": [],
   "source": [
    "Cust_id_test = df_test[['ID']]"
   ]
  },
  {
   "cell_type": "code",
   "execution_count": 780,
   "metadata": {},
   "outputs": [
    {
     "name": "stdout",
     "output_type": "stream",
     "text": [
      "(6000, 34) (2819, 34)\n"
     ]
    }
   ],
   "source": [
    "print df.shape, df_test.shape"
   ]
  },
  {
   "cell_type": "code",
   "execution_count": 781,
   "metadata": {},
   "outputs": [],
   "source": [
    "# #training Target\n",
    "# df_train = df\n",
    "# train_Y = df_train ['CKD']\n",
    "# df_train = df_train.drop(['CKD'], axis =1)\n",
    "# df_train = df_train[imp_features]\n",
    "# print df_train.shape"
   ]
  },
  {
   "cell_type": "code",
   "execution_count": 782,
   "metadata": {},
   "outputs": [],
   "source": [
    "# n_folds = 5\n",
    "# early_stopping = 10"
   ]
  },
  {
   "cell_type": "code",
   "execution_count": 783,
   "metadata": {},
   "outputs": [],
   "source": [
    "# params = {'eta': 0.02, 'max_depth': 3, 'subsample': 0.7, 'colsample_bytree': 0.7, 'objective': 'binary:logistic', 'seed': 99, 'silent': 1, 'eval_metric':'auc', 'nthread':4}\n",
    "# xg_train = xgb.DMatrix(df_train, label=train_Y)"
   ]
  },
  {
   "cell_type": "code",
   "execution_count": 784,
   "metadata": {},
   "outputs": [],
   "source": [
    "# cv = xgb.cv(params, xg_train, 5000, nfold=n_folds, early_stopping_rounds=early_stopping, verbose_eval=1)"
   ]
  },
  {
   "cell_type": "code",
   "execution_count": 786,
   "metadata": {},
   "outputs": [],
   "source": [
    "# cv"
   ]
  },
  {
   "cell_type": "code",
   "execution_count": 787,
   "metadata": {},
   "outputs": [
    {
     "name": "stdout",
     "output_type": "stream",
     "text": [
      "Train shape :  (4800, 34)\n",
      "Validation shape :  (1200, 34)\n"
     ]
    }
   ],
   "source": [
    "#Training_Validation Split\n",
    "df_train, df_validation = train_test_split(df,test_size=0.20,random_state=190)\n",
    "print \"Train shape : \",df_train.shape\n",
    "print \"Validation shape : \",df_validation.shape"
   ]
  },
  {
   "cell_type": "code",
   "execution_count": 788,
   "metadata": {},
   "outputs": [
    {
     "name": "stdout",
     "output_type": "stream",
     "text": [
      "(4800,) (1200,)\n"
     ]
    }
   ],
   "source": [
    "#training Target\n",
    "train_Y = df_train ['CKD']\n",
    "validation_Y = df_validation ['CKD']\n",
    "print train_Y.shape, validation_Y.shape"
   ]
  },
  {
   "cell_type": "code",
   "execution_count": 789,
   "metadata": {},
   "outputs": [
    {
     "name": "stdout",
     "output_type": "stream",
     "text": [
      "Train shape :  (4800, 33)\n",
      "Validation shape :  (1200, 33)\n"
     ]
    }
   ],
   "source": [
    "df_train = df_train.drop(['CKD'], axis =1)\n",
    "df_validation = df_validation.drop(['CKD'], axis =1)\n",
    "print \"Train shape : \",df_train.shape\n",
    "print \"Validation shape : \",df_validation.shape"
   ]
  },
  {
   "cell_type": "code",
   "execution_count": 790,
   "metadata": {
    "scrolled": true
   },
   "outputs": [
    {
     "data": {
      "text/plain": [
       "['LDL',\n",
       " 'SBP',\n",
       " 'Height',\n",
       " 'Age',\n",
       " 'Weight',\n",
       " 'Waist',\n",
       " 'Total Chol',\n",
       " 'HDL',\n",
       " 'BMI',\n",
       " 'DBP',\n",
       " 'Activity',\n",
       " 'Hypertension']"
      ]
     },
     "execution_count": 790,
     "metadata": {},
     "output_type": "execute_result"
    }
   ],
   "source": [
    "imp_features"
   ]
  },
  {
   "cell_type": "code",
   "execution_count": 792,
   "metadata": {},
   "outputs": [],
   "source": [
    "df_train = df_train[imp_features]\n",
    "df_validation = df_validation[imp_features]\n",
    "df_test = df_test[imp_features]"
   ]
  },
  {
   "cell_type": "code",
   "execution_count": 793,
   "metadata": {},
   "outputs": [
    {
     "name": "stdout",
     "output_type": "stream",
     "text": [
      "(4800, 12) (1200, 12) (2819, 12)\n"
     ]
    }
   ],
   "source": [
    "print df_train.shape, df_validation.shape, df_test.shape"
   ]
  },
  {
   "cell_type": "code",
   "execution_count": 795,
   "metadata": {},
   "outputs": [],
   "source": [
    "# df_train_num = df_train[df_num_col]\n",
    "# df_validation_num = df_validation[df_num_col]\n",
    "# df_test_num = df_test[df_num_col]"
   ]
  },
  {
   "cell_type": "code",
   "execution_count": 796,
   "metadata": {},
   "outputs": [],
   "source": [
    "# print df_train_num.shape, df_validation_num.shape, df_test_num.shape"
   ]
  },
  {
   "cell_type": "code",
   "execution_count": 798,
   "metadata": {},
   "outputs": [],
   "source": [
    "# df_train_num = df_train[df_num_col]\n",
    "# df_validation_num = df_validation[df_num_col]\n",
    "# df_test_num = df_test[df_num_col]"
   ]
  },
  {
   "cell_type": "code",
   "execution_count": 800,
   "metadata": {},
   "outputs": [],
   "source": [
    "# print df_train_num.shape, df_validation_num.shape, df_test_num.shape"
   ]
  },
  {
   "cell_type": "code",
   "execution_count": 483,
   "metadata": {},
   "outputs": [],
   "source": [
    "# #Impute median values for numerical variables\n",
    "# def impute_median(df):\n",
    "#     fill_NaN = Imputer(missing_values=np.nan, strategy='median', axis=1)\n",
    "#     imputed_df = pd.DataFrame(fill_NaN.fit_transform(df))\n",
    "#     imputed_df.columns = df.columns\n",
    "#     imputed_df.index = df.index\n",
    "#     return imputed_df"
   ]
  },
  {
   "cell_type": "code",
   "execution_count": 484,
   "metadata": {},
   "outputs": [],
   "source": [
    "# imputed_df_train_num = impute_median(df_train_num)\n",
    "# imputed_df_validation_num = impute_median(df_validation_num)\n",
    "# imputed_df_test_num = impute_median(df_test_num)"
   ]
  },
  {
   "cell_type": "code",
   "execution_count": 485,
   "metadata": {},
   "outputs": [
    {
     "name": "stdout",
     "output_type": "stream",
     "text": [
      "(4800, 30) (1200, 30) (2819, 30)\n"
     ]
    }
   ],
   "source": [
    "# print imputed_df_train_num.shape, imputed_df_validation_num.shape, imputed_df_test_num.shape"
   ]
  },
  {
   "cell_type": "code",
   "execution_count": 265,
   "metadata": {},
   "outputs": [],
   "source": [
    "# #PCA function with normalization\n",
    "# def doPCAwS(df_train, df_validation, df_test, n):\n",
    "#     #Create index dataframe to join later\n",
    "#     df_train_idx = df_train.index.values.tolist()\n",
    "#     df_train_idx = pd.DataFrame(df_train_idx).rename(columns = {0 : 'idx'})\n",
    "#     df_validation_idx = df_validation.index.values.tolist()\n",
    "#     df_validation_idx = pd.DataFrame(df_validation_idx).rename(columns = {0 : 'idx'})\n",
    "#     df_test_idx = df_test.index.values.tolist()\n",
    "#     df_test_idx = pd.DataFrame(df_test_idx).rename(columns = {0 : 'idx'})\n",
    "#     #Scaling the values - Normalize/Standardize\n",
    "#     X_train = scale(df_train)\n",
    "#     X_validation = scale(df_validation)\n",
    "#     X_test = scale(df_test)\n",
    "#     #Calling PCA function and fitting\n",
    "#     pca = PCA(n_components=n)\n",
    "#     pca.fit(X_train)\n",
    "#     #The amount of variance that each PC explains\n",
    "#     var = pca.explained_variance_ratio_\n",
    "#     #Cumulative Variance explains\n",
    "#     cum_var=np.cumsum(np.round(pca.explained_variance_ratio_, decimals=4)*100)\n",
    "#     print cum_var\n",
    "#     #Transform into PCs\n",
    "#     X_train_tfm = pca.fit_transform(X_train)\n",
    "#     df_train_pca = pd.DataFrame(X_train_tfm)\n",
    "#     X_validation_tfm = pca.transform(X_validation)\n",
    "#     df_validation_pca = pd.DataFrame(X_validation_tfm)\n",
    "#     X_test_tfm = pca.fit_transform(X_test)\n",
    "#     df_test_pca = pd.DataFrame(X_test_tfm)\n",
    "#     #Join Index with non-PCA columns\n",
    "#     df_train_pca = df_train_idx.join(df_train_pca).set_index(['idx'])\n",
    "#     df_validation_pca = df_validation_idx.join(df_validation_pca).set_index(['idx'])\n",
    "#     df_test_pca = df_test_idx.join(df_test_pca).set_index(['idx'])\n",
    "#     del df_train_pca.index.name, df_validation_pca.index.name, df_test_pca.index.name\n",
    "#     return df_train_pca, df_validation_pca, df_test_pca"
   ]
  },
  {
   "cell_type": "code",
   "execution_count": 486,
   "metadata": {},
   "outputs": [
    {
     "name": "stdout",
     "output_type": "stream",
     "text": [
      "[ 11.66  21.27  28.05  34.33  39.91  45.21  50.1   54.37  58.05  61.49\n",
      "  64.8   68.06  71.22  74.16  76.92  79.58  82.21  84.63]\n"
     ]
    }
   ],
   "source": [
    "# df_train_num_pca, df_validation_num_pca, df_test_num_pca = doPCAwS(imputed_df_train_num,imputed_df_validation_num,imputed_df_test_num,18)"
   ]
  },
  {
   "cell_type": "code",
   "execution_count": 267,
   "metadata": {},
   "outputs": [],
   "source": [
    "# df_train_num_pca = df_train_num_pca.add_prefix('numPCA_')\n",
    "# df_validation_num_pca = df_validation_num_pca.add_prefix('numPCA_')\n",
    "# df_test_num_pca = df_test_num_pca.add_prefix('numPCA_')"
   ]
  },
  {
   "cell_type": "code",
   "execution_count": 268,
   "metadata": {},
   "outputs": [
    {
     "name": "stdout",
     "output_type": "stream",
     "text": [
      "(4800, 18) (1200, 18) (2819, 18)\n"
     ]
    }
   ],
   "source": [
    "# print df_train_num_pca.shape, df_validation_num_pca.shape, df_test_num_pca.shape"
   ]
  },
  {
   "cell_type": "code",
   "execution_count": 487,
   "metadata": {},
   "outputs": [],
   "source": [
    "# #Handling Categorical variables\n",
    "# df_train_nominal = df_train[df_nominal_col]\n",
    "# df_validation_nominal = df_validation[df_nominal_col]\n",
    "# df_test_nominal = df_test[df_nominal_col]"
   ]
  },
  {
   "cell_type": "code",
   "execution_count": 488,
   "metadata": {},
   "outputs": [],
   "source": [
    "# def impute_mode(df):\n",
    "#     imputed_df = df.apply(lambda x:x.fillna(x.value_counts().index[0]))\n",
    "#     return imputed_df"
   ]
  },
  {
   "cell_type": "code",
   "execution_count": 489,
   "metadata": {},
   "outputs": [],
   "source": [
    "# imputed_df_train_nominal = impute_mode(df_train_nominal)\n",
    "# imputed_df_validation_nominal = impute_mode(df_validation_nominal)\n",
    "# imputed_df_test_nominal = impute_mode(df_test_nominal)"
   ]
  },
  {
   "cell_type": "code",
   "execution_count": 490,
   "metadata": {},
   "outputs": [],
   "source": [
    "# #Function to creating dummy variables for Nominal fields for a set of columns\n",
    "# def create_dummy_set(df_col,df):\n",
    "#     for i in df_col:\n",
    "#         dummies = pd.get_dummies(df[i]).rename(columns=lambda x: i+'_'+ str(x))\n",
    "#         #Adding to input variables\n",
    "#         df = pd.concat([df, dummies], axis=1)\n",
    "#         #Dropping column without having to reassign\n",
    "#         df.drop([i], inplace=True, axis=1)\n",
    "#         print df.shape\n",
    "#     return df"
   ]
  },
  {
   "cell_type": "code",
   "execution_count": 491,
   "metadata": {},
   "outputs": [
    {
     "name": "stdout",
     "output_type": "stream",
     "text": [
      "(4800, 5)\n",
      "(4800, 8)\n",
      "(1200, 5)\n",
      "(1200, 8)\n",
      "(2819, 5)\n",
      "(2819, 8)\n"
     ]
    }
   ],
   "source": [
    "# df_train_nominal = create_dummy_set(df_nominal_col,imputed_df_train_nominal)\n",
    "# df_validation_nominal = create_dummy_set(df_nominal_col,imputed_df_validation_nominal)\n",
    "# df_test_nominal = create_dummy_set(df_nominal_col,imputed_df_test_nominal)"
   ]
  },
  {
   "cell_type": "code",
   "execution_count": 492,
   "metadata": {},
   "outputs": [
    {
     "name": "stdout",
     "output_type": "stream",
     "text": [
      "(4800, 18) (4800, 8) (4800,)\n",
      "(1200, 18) (1200, 8) (1200,)\n",
      "(2819, 18) (2819, 8)\n"
     ]
    }
   ],
   "source": [
    "# print df_train_num_pca.shape, df_train_nominal.shape, train_Y.shape\n",
    "# print df_validation_num_pca.shape, df_validation_nominal.shape, validation_Y.shape\n",
    "# print df_test_num_pca.shape, df_test_nominal.shape"
   ]
  },
  {
   "cell_type": "code",
   "execution_count": 493,
   "metadata": {},
   "outputs": [],
   "source": [
    "# df_train = df_train_num_pca.join(df_train_nominal)\n",
    "# df_validation = df_validation_num_pca.join(df_validation_nominal)\n",
    "# df_test = df_test_num_pca.join(df_test_nominal)"
   ]
  },
  {
   "cell_type": "code",
   "execution_count": 494,
   "metadata": {},
   "outputs": [],
   "source": [
    "# df_train = imputed_df_train_num.join(df_train_nominal)\n",
    "# df_validation = imputed_df_validation_num.join(df_validation_nominal)\n",
    "# df_test = imputed_df_test_num.join(df_test_nominal)"
   ]
  },
  {
   "cell_type": "code",
   "execution_count": 801,
   "metadata": {},
   "outputs": [
    {
     "name": "stdout",
     "output_type": "stream",
     "text": [
      "(4800, 12) (1200, 12) (2819, 12)\n"
     ]
    }
   ],
   "source": [
    "# print df_train.shape, df_validation.shape, df_test.shape"
   ]
  },
  {
   "cell_type": "code",
   "execution_count": 804,
   "metadata": {},
   "outputs": [],
   "source": [
    "# rf = RandomForestClassifier(n_estimators=450, max_features=15, max_depth=10, n_jobs=2).fit(df_train,train_Y)\n",
    "# train_pred = rf.predict_proba(df_train)\n",
    "# val_pred = rf.predict_proba(df_validation)"
   ]
  },
  {
   "cell_type": "code",
   "execution_count": 805,
   "metadata": {},
   "outputs": [],
   "source": [
    "# train_pred_val = rf.predict(df_train)\n",
    "# val_pred_val = rf.predict(df_validation)\n",
    "# print confusion_matrix(train_Y, train_pred_val)\n",
    "# print confusion_matrix(validation_Y, val_pred_val)\n",
    "# print accuracy_score(train_Y, train_pred_val)\n",
    "# print accuracy_score(validation_Y, val_pred_val)\n",
    "# print recall_score(train_Y, train_pred_val)\n",
    "# print recall_score(validation_Y, val_pred_val)\n",
    "# print precision_score(train_Y, train_pred_val)\n",
    "# print precision_score(validation_Y, val_pred_val)"
   ]
  },
  {
   "cell_type": "code",
   "execution_count": 806,
   "metadata": {},
   "outputs": [],
   "source": [
    "_xgb = xgb.XGBClassifier(objective='binary:logistic',max_depth=3,n_estimators=500,colsample_bytree=.75,learning_rate=0.06).fit(df_train, train_Y,eval_metric='auc')"
   ]
  },
  {
   "cell_type": "code",
   "execution_count": 807,
   "metadata": {},
   "outputs": [
    {
     "name": "stdout",
     "output_type": "stream",
     "text": [
      "[ 0.09208045  0.10182276  0.1052797   0.10496543  0.10842238  0.08736644\n",
      "  0.07950974  0.09899434  0.09930861  0.07825267  0.02199874  0.02199874]\n"
     ]
    },
    {
     "data": {
      "image/png": "[encoded data removed]",
      "text/plain": [
       "<matplotlib.figure.Figure at 0x11d06b950>"
      ]
     },
     "metadata": {},
     "output_type": "display_data"
    }
   ],
   "source": [
    "# feature importance\n",
    "print(_xgb.feature_importances_)\n",
    "# plot\n",
    "plt.bar(range(len(_xgb.feature_importances_)), _xgb.feature_importances_)\n",
    "plt.show()"
   ]
  },
  {
   "cell_type": "code",
   "execution_count": 808,
   "metadata": {},
   "outputs": [],
   "source": [
    "ax = plot_importance(_xgb, max_num_features=50, ax=ax)\n",
    "fig = ax.figure\n",
    "fig.set_size_inches(18.5, 10.5)\n",
    "fig.savefig('../Documents/JK/CKD/CKD_imp_features.png', dpi=1000)\n",
    "plt.show()"
   ]
  },
  {
   "cell_type": "code",
   "execution_count": 809,
   "metadata": {},
   "outputs": [],
   "source": [
    "imp_features = [\"LDL\",\"SBP\",\"Height\",\"Age\",\"Weight\",\"Waist\",\"Total Chol\",\"HDL\",\"BMI\",\"DBP\",\"Activity\",\"Hypertension\"]"
   ]
  },
  {
   "cell_type": "code",
   "execution_count": 810,
   "metadata": {},
   "outputs": [],
   "source": [
    "#model training\n",
    "_xgb = xgb.XGBClassifier(objective='binary:logistic',max_depth=3,n_estimators=500,colsample_bytree=.75,learning_rate=0.06).fit(df_train, train_Y,eval_metric='auc')\n",
    "train_pred = _xgb.predict_proba(df_train)\n",
    "val_pred = _xgb.predict_proba(df_validation)"
   ]
  },
  {
   "cell_type": "code",
   "execution_count": 811,
   "metadata": {},
   "outputs": [],
   "source": [
    "#Using only probability for CKD Positive\n",
    "train_pred_val = train_pred[:,1]\n",
    "val_pred_val = val_pred[:,1]"
   ]
  },
  {
   "cell_type": "code",
   "execution_count": 812,
   "metadata": {},
   "outputs": [
    {
     "data": {
      "text/plain": [
       "array([ 0.00271794,  0.00108637,  0.12177316, ...,  0.00129811,\n",
       "        0.0072551 ,  0.00240793], dtype=float32)"
      ]
     },
     "execution_count": 812,
     "metadata": {},
     "output_type": "execute_result"
    }
   ],
   "source": [
    "train_pred_val"
   ]
  },
  {
   "cell_type": "code",
   "execution_count": 813,
   "metadata": {},
   "outputs": [],
   "source": [
    "#Setting probability threshold for unbalanced known data\n",
    "m=0.15\n",
    "for i in range(len(train_pred_val)):\n",
    "    if train_pred_val[i]<m:\n",
    "        train_pred_val[i]=0\n",
    "    else: \n",
    "        train_pred_val[i]=1\n",
    "for i in range(len(val_pred_val)):\n",
    "    if val_pred_val[i]<m:\n",
    "        val_pred_val[i]=0\n",
    "    else: \n",
    "        val_pred_val[i]=1"
   ]
  },
  {
   "cell_type": "code",
   "execution_count": 814,
   "metadata": {},
   "outputs": [],
   "source": [
    "# train_pred_val"
   ]
  },
  {
   "cell_type": "code",
   "execution_count": 819,
   "metadata": {},
   "outputs": [
    {
     "name": "stdout",
     "output_type": "stream",
     "text": [
      "[[4055  373]\n",
      " [  32  340]]\n",
      "[[976 132]\n",
      " [ 33  59]]\n",
      "0.915625\n",
      "0.8625\n",
      "0.913978494624\n",
      "0.641304347826\n",
      "0.476858345021\n",
      "0.30890052356\n"
     ]
    }
   ],
   "source": [
    "# train_pred_val = _xgb.predict(df_train)\n",
    "# val_pred_val = _xgb.predict(df_validation)\n",
    "print confusion_matrix(train_Y, train_pred_val)\n",
    "print confusion_matrix(validation_Y, val_pred_val)\n",
    "print accuracy_score(train_Y, train_pred_val)\n",
    "print accuracy_score(validation_Y, val_pred_val)\n",
    "print recall_score(train_Y, train_pred_val)\n",
    "print recall_score(validation_Y, val_pred_val)\n",
    "print precision_score(train_Y, train_pred_val)\n",
    "print precision_score(validation_Y, val_pred_val)"
   ]
  },
  {
   "cell_type": "code",
   "execution_count": 816,
   "metadata": {},
   "outputs": [
    {
     "data": {
      "text/plain": [
       "array([[  9.47500706e-01,   5.24993017e-02],\n",
       "       [  9.96809304e-01,   3.19067156e-03],\n",
       "       [  6.97570205e-01,   3.02429795e-01],\n",
       "       ..., \n",
       "       [  9.61105108e-01,   3.88949215e-02],\n",
       "       [  9.99073684e-01,   9.26319917e-04],\n",
       "       [  9.93827164e-01,   6.17286377e-03]], dtype=float32)"
      ]
     },
     "execution_count": 816,
     "metadata": {},
     "output_type": "execute_result"
    }
   ],
   "source": [
    "test_pred = _xgb.predict_proba(df_test)\n",
    "# test_pred_val = test_pred[:,1]\n",
    "test_pred"
   ]
  },
  {
   "cell_type": "code",
   "execution_count": 817,
   "metadata": {},
   "outputs": [
    {
     "data": {
      "text/plain": [
       "array([ 0.0524993 ,  0.00319067,  0.3024298 , ...,  0.03889492,\n",
       "        0.00092632,  0.00617286], dtype=float32)"
      ]
     },
     "execution_count": 817,
     "metadata": {},
     "output_type": "execute_result"
    }
   ],
   "source": [
    "test_pred_val"
   ]
  },
  {
   "cell_type": "code",
   "execution_count": 818,
   "metadata": {},
   "outputs": [],
   "source": [
    "#Setting probability threshold assumption (unbalanced) for unknown data\n",
    "m=0.15\n",
    "for i in range(len(train_pred_val)):\n",
    "    if train_pred_val[i]<m:\n",
    "        train_pred_val[i]=0\n",
    "    else: \n",
    "        train_pred_val[i]=1"
   ]
  },
  {
   "cell_type": "code",
   "execution_count": 820,
   "metadata": {},
   "outputs": [],
   "source": [
    "df_test_pred = pd.DataFrame(train_pred_val.tolist())"
   ]
  },
  {
   "cell_type": "code",
   "execution_count": 827,
   "metadata": {},
   "outputs": [],
   "source": [
    "predicted_result = Cust_id_test.join(df_test_pred)"
   ]
  },
  {
   "cell_type": "code",
   "execution_count": 828,
   "metadata": {},
   "outputs": [],
   "source": [
    "# predicted_result = predicted_result.drop(0, 1)"
   ]
  },
  {
   "cell_type": "code",
   "execution_count": 829,
   "metadata": {},
   "outputs": [],
   "source": [
    "predicted_result = predicted_result.rename(index=str, columns={0: 1})"
   ]
  },
  {
   "cell_type": "code",
   "execution_count": 830,
   "metadata": {},
   "outputs": [
    {
     "data": {
      "text/html": [
       "<div>\n",
       "<table border=\"1\" class=\"dataframe\">\n",
       "  <thead>\n",
       "    <tr style=\"text-align: right;\">\n",
       "      <th></th>\n",
       "      <th>ID</th>\n",
       "      <th>1</th>\n",
       "    </tr>\n",
       "  </thead>\n",
       "  <tbody>\n",
       "    <tr>\n",
       "      <th>0</th>\n",
       "      <td>6001</td>\n",
       "      <td>0.0</td>\n",
       "    </tr>\n",
       "    <tr>\n",
       "      <th>1</th>\n",
       "      <td>6002</td>\n",
       "      <td>0.0</td>\n",
       "    </tr>\n",
       "    <tr>\n",
       "      <th>2</th>\n",
       "      <td>6003</td>\n",
       "      <td>0.0</td>\n",
       "    </tr>\n",
       "    <tr>\n",
       "      <th>3</th>\n",
       "      <td>6004</td>\n",
       "      <td>0.0</td>\n",
       "    </tr>\n",
       "    <tr>\n",
       "      <th>4</th>\n",
       "      <td>6005</td>\n",
       "      <td>0.0</td>\n",
       "    </tr>\n",
       "    <tr>\n",
       "      <th>5</th>\n",
       "      <td>6006</td>\n",
       "      <td>1.0</td>\n",
       "    </tr>\n",
       "    <tr>\n",
       "      <th>6</th>\n",
       "      <td>6007</td>\n",
       "      <td>1.0</td>\n",
       "    </tr>\n",
       "    <tr>\n",
       "      <th>7</th>\n",
       "      <td>6008</td>\n",
       "      <td>0.0</td>\n",
       "    </tr>\n",
       "    <tr>\n",
       "      <th>8</th>\n",
       "      <td>6009</td>\n",
       "      <td>0.0</td>\n",
       "    </tr>\n",
       "    <tr>\n",
       "      <th>9</th>\n",
       "      <td>6010</td>\n",
       "      <td>0.0</td>\n",
       "    </tr>\n",
       "  </tbody>\n",
       "</table>\n",
       "</div>"
      ],
      "text/plain": [
       "     ID    1\n",
       "0  6001  0.0\n",
       "1  6002  0.0\n",
       "2  6003  0.0\n",
       "3  6004  0.0\n",
       "4  6005  0.0\n",
       "5  6006  1.0\n",
       "6  6007  1.0\n",
       "7  6008  0.0\n",
       "8  6009  0.0\n",
       "9  6010  0.0"
      ]
     },
     "execution_count": 830,
     "metadata": {},
     "output_type": "execute_result"
    }
   ],
   "source": [
    "predicted_result.head(10)"
   ]
  },
  {
   "cell_type": "code",
   "execution_count": 831,
   "metadata": {},
   "outputs": [],
   "source": [
    "predicted_result.to_csv(\"../Documents/JK/CKD/CKD_output.csv\",sep=',',index=False)"
   ]
  },
  {
   "cell_type": "code",
   "execution_count": null,
   "metadata": {},
   "outputs": [],
   "source": []
  }
 ],
 "metadata": {
  "kernelspec": {
   "display_name": "Python 2",
   "language": "python",
   "name": "python2"
  },
  "language_info": {
   "codemirror_mode": {
    "name": "ipython",
    "version": 2
   },
   "file_extension": ".py",
   "mimetype": "text/x-python",
   "name": "python",
   "nbconvert_exporter": "python",
   "pygments_lexer": "ipython2",
   "version": "2.7.13"
  }
 },
 "nbformat": 4,
 "nbformat_minor": 2
}
