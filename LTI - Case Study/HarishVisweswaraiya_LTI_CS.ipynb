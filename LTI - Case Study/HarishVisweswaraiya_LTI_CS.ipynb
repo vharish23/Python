{
 "cells": [
  {
   "cell_type": "markdown",
   "metadata": {},
   "source": [
    "### Sales Drop - LTI Case Study code developed by 'Harish Visweswaraiya'"
   ]
  },
  {
   "cell_type": "code",
   "execution_count": 1,
   "metadata": {},
   "outputs": [
    {
     "data": {
      "text/html": [
       "<style>.container { width:100% !important; }</style>"
      ],
      "text/plain": [
       "<IPython.core.display.HTML object>"
      ]
     },
     "metadata": {},
     "output_type": "display_data"
    }
   ],
   "source": [
    "from IPython.core.display import display, HTML   #resize window\n",
    "display(HTML(\"<style>.container { width:100% !important; }</style>\"))\n",
    "\n",
    "from IPython.core.interactiveshell import InteractiveShell #pretty display\n",
    "InteractiveShell.ast_node_interactivity = \"all\""
   ]
  },
  {
   "cell_type": "code",
   "execution_count": 2,
   "metadata": {},
   "outputs": [],
   "source": [
    "import pandas as pd\n",
    "import calendar\n",
    "import numpy as np\n",
    "pd.set_option('expand_frame_repr', False)"
   ]
  },
  {
   "cell_type": "code",
   "execution_count": 3,
   "metadata": {},
   "outputs": [],
   "source": [
    "# Read data and create MonthName\n",
    "df = pd.read_excel('./Case Study - Deep Dive Analysis.xlsx',sheet_name='input_data')\n",
    "df.rename(columns={\"Value Offtake(000 Rs)\":\"Value\"}, inplace=True)\n",
    "df[\"month_fmtd\"] = df[\"month\"].dt.month\n",
    "df[\"year\"] = df[\"month\"].dt.year\n",
    "df[\"month_fmtd\"] = df['month_fmtd'].apply(lambda x: calendar.month_abbr[x])\n",
    "df[\"MonthName\"] = df[\"month_fmtd\"].astype(str) + df[\"year\"].astype(str)\n",
    "df.drop(['month_fmtd','year','Item','PackSize','Packtype','month'], axis=1, inplace=True)"
   ]
  },
  {
   "cell_type": "code",
   "execution_count": 4,
   "metadata": {},
   "outputs": [],
   "source": [
    "def prep(df, Manufacturer,target_period):\n",
    "    df_tgt = df.loc[(df.Manufacturer == Manufacturer)&(df.MonthName==target_period)]\n",
    "    Zone = df_tgt.Zone.unique().tolist()\n",
    "    Region = df_tgt.Region.unique().tolist()\n",
    "    Brand =  df_tgt.Brand.unique().tolist()\n",
    "    Subbrand = df_tgt.Subbrand.unique().tolist()\n",
    "    Dict = {'Zone': Zone, 'Region':Region, 'Brand':Brand, 'Subbrand':Subbrand}\n",
    "    pd.DataFrame(Dict.items(), columns=['Level', 'Focus_Area'])\n",
    "    df_dict = pd.DataFrame.from_dict(Dict, orient='index').reset_index()\n",
    "    df_dict = df_dict.melt(id_vars=['index'],\n",
    "        var_name=\"Level\", \n",
    "        value_name=\"Focus_Area\")\n",
    "    df_dict.drop('Level',axis=1, inplace=True)\n",
    "    df_dict.rename(columns={\"index\":\"Level\"}, inplace=True)\n",
    "    df_dict = df_dict.dropna().reset_index(drop=True).sort_values('Level')\n",
    "    df_dict['Manufacturer'] = Manufacturer\n",
    "    cols = ['Manufacturer','Level','Focus_Area']\n",
    "    df_dict = df_dict[cols]\n",
    "    return df_dict"
   ]
  },
  {
   "cell_type": "code",
   "execution_count": 5,
   "metadata": {},
   "outputs": [],
   "source": [
    "#Function to get results\n",
    "def SalesDropAnalysis(Manufacturer, target_period, reference_period):\n",
    "    df_tgt = df.loc[(df.Manufacturer == Manufacturer) & (df.MonthName== target_period)]\n",
    "    df_ref = df.loc[(df.Manufacturer == Manufacturer) & (df.MonthName== reference_period)]\n",
    "    tgt_period_sales = df_tgt.Value.sum()\n",
    "    ref_period_sales = df_ref.Value.sum()\n",
    "    \n",
    "    if tgt_period_sales > ref_period_sales:\n",
    "        return print(\"There is no drop in the sales for \"+Manufacturer+\" in \"+target_period)\n",
    "    else:\n",
    "        df_new = prep(df, Manufacturer, target_period)\n",
    "        ls_gr, ls_contr, ls_product = [], [], []\n",
    "        for index, row in df_new.iterrows():\n",
    "            Level, Focus_Area  = row['Level'], row['Focus_Area']\n",
    "            tgt_gb = df_tgt.groupby(Level)\n",
    "            tgt_fa_val = tgt_gb.aggregate(np.sum).loc[Focus_Area, :].at['Value']\n",
    "            ref_gb = df_ref.groupby(Level)\n",
    "            ref_fa_val = ref_gb.aggregate(np.sum).loc[Focus_Area, :].at['Value']\n",
    "            gr = ((tgt_fa_val/ref_fa_val) - 1) * 100\n",
    "            contr = (tgt_fa_val/tgt_period_sales) * 100\n",
    "            product = gr * contr / 10000\n",
    "            ls_gr.append(gr)\n",
    "            ls_contr.append(contr)\n",
    "            ls_product.append(product)\n",
    "            \n",
    "        df_new[\"growth_rate(%)\"], df_new[\"contribution(%)\"], df_new[\"product\"]  = ls_gr, ls_contr, ls_product \n",
    "        df_new = df_new.sort_values(by='product').reset_index(drop=True)\n",
    "        \n",
    "        return print(df_new.round({\"growth_rate(%)\":0, \"contribution(%)\":0, \"product\":2}))"
   ]
  },
  {
   "cell_type": "code",
   "execution_count": null,
   "metadata": {},
   "outputs": [],
   "source": []
  },
  {
   "cell_type": "markdown",
   "metadata": {},
   "source": [
    "### Example 1"
   ]
  },
  {
   "cell_type": "code",
   "execution_count": 6,
   "metadata": {},
   "outputs": [
    {
     "name": "stdout",
     "output_type": "stream",
     "text": [
      "  Manufacturer     Level     Focus_Area  growth_rate(%)  contribution(%)  product\n",
      "0         AMUL     Brand           AMUL           -28.0            100.0    -0.28\n",
      "1         AMUL  Subbrand  AMUL PRO WHEY           -28.0            100.0    -0.28\n",
      "2         AMUL    Region          Urban           -28.0             89.0    -0.25\n",
      "3         AMUL      Zone           East           -78.0              9.0    -0.07\n",
      "4         AMUL      Zone           West           -11.0             37.0    -0.04\n",
      "5         AMUL      Zone          South            -7.0             35.0    -0.02\n",
      "6         AMUL    Region          Rural           -23.0             11.0    -0.02\n",
      "7         AMUL      Zone          North            -3.0             19.0    -0.01\n"
     ]
    }
   ],
   "source": [
    "SalesDropAnalysis(Manufacturer='AMUL', target_period='May2019', reference_period='Apr2019')"
   ]
  },
  {
   "cell_type": "markdown",
   "metadata": {},
   "source": [
    "### Example 2"
   ]
  },
  {
   "cell_type": "code",
   "execution_count": 7,
   "metadata": {},
   "outputs": [
    {
     "name": "stdout",
     "output_type": "stream",
     "text": [
      "  Manufacturer     Level                Focus_Area  growth_rate(%)  contribution(%)  product\n",
      "0  KRAFT FOODS    Region                     Urban           -11.0             89.0    -0.10\n",
      "1  KRAFT FOODS     Brand                   COMPLAN            -8.0            100.0    -0.08\n",
      "2  KRAFT FOODS  Subbrand  COMPLAN ROYALE CHOCOLATE            -8.0            100.0    -0.08\n",
      "3  KRAFT FOODS      Zone                      East           -26.0             18.0    -0.05\n",
      "4  KRAFT FOODS      Zone                      West            -7.0             35.0    -0.03\n",
      "5  KRAFT FOODS      Zone                     South            -1.0             13.0    -0.00\n",
      "6  KRAFT FOODS      Zone                     North             3.0             34.0     0.01\n",
      "7  KRAFT FOODS    Region                     Rural            28.0             11.0     0.03\n"
     ]
    }
   ],
   "source": [
    "SalesDropAnalysis(Manufacturer='KRAFT FOODS', target_period='Apr2019', reference_period='Mar2019')"
   ]
  },
  {
   "cell_type": "markdown",
   "metadata": {},
   "source": [
    "### Example 3"
   ]
  },
  {
   "cell_type": "code",
   "execution_count": 8,
   "metadata": {},
   "outputs": [
    {
     "name": "stdout",
     "output_type": "stream",
     "text": [
      "There is no drop in the sales for KRAFT FOODS in May2019\n"
     ]
    }
   ],
   "source": [
    "SalesDropAnalysis(Manufacturer='KRAFT FOODS', target_period='May2019', reference_period='Apr2019')"
   ]
  },
  {
   "cell_type": "code",
   "execution_count": null,
   "metadata": {},
   "outputs": [],
   "source": []
  }
 ],
 "metadata": {
  "kernelspec": {
   "display_name": "Python 3",
   "language": "python",
   "name": "python3"
  },
  "language_info": {
   "codemirror_mode": {
    "name": "ipython",
    "version": 3
   },
   "file_extension": ".py",
   "mimetype": "text/x-python",
   "name": "python",
   "nbconvert_exporter": "python",
   "pygments_lexer": "ipython3",
   "version": "3.6.8"
  }
 },
 "nbformat": 4,
 "nbformat_minor": 2
}
